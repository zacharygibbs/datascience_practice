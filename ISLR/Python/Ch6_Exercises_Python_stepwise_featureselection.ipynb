{
 "cells": [
  {
   "cell_type": "code",
   "execution_count": 3,
   "id": "00f24aae",
   "metadata": {},
   "outputs": [],
   "source": [
    "import sklearn\n",
    "from sklearn import linear_model\n",
    "from sklearn import preprocessing\n",
    "from sklearn import model_selection\n",
    "from sklearn import discriminant_analysis\n",
    "from sklearn import naive_bayes\n",
    "from sklearn import metrics\n",
    "from sklearn import neighbors\n",
    "from sklearn import feature_selection\n",
    "import sklearn.datasets\n",
    "import seaborn as sns\n",
    "import pandas as pd\n",
    "import numpy as np\n",
    "import matplotlib.pyplot as plt\n",
    "import random\n",
    "import statsmodels.api as sm\n"
   ]
  },
  {
   "cell_type": "markdown",
   "id": "4c88b46d",
   "metadata": {},
   "source": [
    "11. We will now try to predict per capita crime rate in the Boston data set."
   ]
  },
  {
   "cell_type": "code",
   "execution_count": 4,
   "id": "4e5e4cc8",
   "metadata": {
    "scrolled": true
   },
   "outputs": [
    {
     "data": {
      "text/html": [
       "<div>\n",
       "<style scoped>\n",
       "    .dataframe tbody tr th:only-of-type {\n",
       "        vertical-align: middle;\n",
       "    }\n",
       "\n",
       "    .dataframe tbody tr th {\n",
       "        vertical-align: top;\n",
       "    }\n",
       "\n",
       "    .dataframe thead th {\n",
       "        text-align: right;\n",
       "    }\n",
       "</style>\n",
       "<table border=\"1\" class=\"dataframe\">\n",
       "  <thead>\n",
       "    <tr style=\"text-align: right;\">\n",
       "      <th></th>\n",
       "      <th>crim</th>\n",
       "      <th>zn</th>\n",
       "      <th>indus</th>\n",
       "      <th>chas</th>\n",
       "      <th>nox</th>\n",
       "      <th>rm</th>\n",
       "      <th>age</th>\n",
       "      <th>dis</th>\n",
       "      <th>rad</th>\n",
       "      <th>tax</th>\n",
       "      <th>ptratio</th>\n",
       "      <th>lstat</th>\n",
       "      <th>medv</th>\n",
       "    </tr>\n",
       "  </thead>\n",
       "  <tbody>\n",
       "    <tr>\n",
       "      <th>1</th>\n",
       "      <td>0.00632</td>\n",
       "      <td>18.0</td>\n",
       "      <td>2.31</td>\n",
       "      <td>0</td>\n",
       "      <td>0.538</td>\n",
       "      <td>6.575</td>\n",
       "      <td>65.2</td>\n",
       "      <td>4.0900</td>\n",
       "      <td>1</td>\n",
       "      <td>296</td>\n",
       "      <td>15.3</td>\n",
       "      <td>4.98</td>\n",
       "      <td>24.0</td>\n",
       "    </tr>\n",
       "    <tr>\n",
       "      <th>2</th>\n",
       "      <td>0.02731</td>\n",
       "      <td>0.0</td>\n",
       "      <td>7.07</td>\n",
       "      <td>0</td>\n",
       "      <td>0.469</td>\n",
       "      <td>6.421</td>\n",
       "      <td>78.9</td>\n",
       "      <td>4.9671</td>\n",
       "      <td>2</td>\n",
       "      <td>242</td>\n",
       "      <td>17.8</td>\n",
       "      <td>9.14</td>\n",
       "      <td>21.6</td>\n",
       "    </tr>\n",
       "    <tr>\n",
       "      <th>3</th>\n",
       "      <td>0.02729</td>\n",
       "      <td>0.0</td>\n",
       "      <td>7.07</td>\n",
       "      <td>0</td>\n",
       "      <td>0.469</td>\n",
       "      <td>7.185</td>\n",
       "      <td>61.1</td>\n",
       "      <td>4.9671</td>\n",
       "      <td>2</td>\n",
       "      <td>242</td>\n",
       "      <td>17.8</td>\n",
       "      <td>4.03</td>\n",
       "      <td>34.7</td>\n",
       "    </tr>\n",
       "    <tr>\n",
       "      <th>4</th>\n",
       "      <td>0.03237</td>\n",
       "      <td>0.0</td>\n",
       "      <td>2.18</td>\n",
       "      <td>0</td>\n",
       "      <td>0.458</td>\n",
       "      <td>6.998</td>\n",
       "      <td>45.8</td>\n",
       "      <td>6.0622</td>\n",
       "      <td>3</td>\n",
       "      <td>222</td>\n",
       "      <td>18.7</td>\n",
       "      <td>2.94</td>\n",
       "      <td>33.4</td>\n",
       "    </tr>\n",
       "    <tr>\n",
       "      <th>5</th>\n",
       "      <td>0.06905</td>\n",
       "      <td>0.0</td>\n",
       "      <td>2.18</td>\n",
       "      <td>0</td>\n",
       "      <td>0.458</td>\n",
       "      <td>7.147</td>\n",
       "      <td>54.2</td>\n",
       "      <td>6.0622</td>\n",
       "      <td>3</td>\n",
       "      <td>222</td>\n",
       "      <td>18.7</td>\n",
       "      <td>5.33</td>\n",
       "      <td>36.2</td>\n",
       "    </tr>\n",
       "    <tr>\n",
       "      <th>...</th>\n",
       "      <td>...</td>\n",
       "      <td>...</td>\n",
       "      <td>...</td>\n",
       "      <td>...</td>\n",
       "      <td>...</td>\n",
       "      <td>...</td>\n",
       "      <td>...</td>\n",
       "      <td>...</td>\n",
       "      <td>...</td>\n",
       "      <td>...</td>\n",
       "      <td>...</td>\n",
       "      <td>...</td>\n",
       "      <td>...</td>\n",
       "    </tr>\n",
       "    <tr>\n",
       "      <th>502</th>\n",
       "      <td>0.06263</td>\n",
       "      <td>0.0</td>\n",
       "      <td>11.93</td>\n",
       "      <td>0</td>\n",
       "      <td>0.573</td>\n",
       "      <td>6.593</td>\n",
       "      <td>69.1</td>\n",
       "      <td>2.4786</td>\n",
       "      <td>1</td>\n",
       "      <td>273</td>\n",
       "      <td>21.0</td>\n",
       "      <td>9.67</td>\n",
       "      <td>22.4</td>\n",
       "    </tr>\n",
       "    <tr>\n",
       "      <th>503</th>\n",
       "      <td>0.04527</td>\n",
       "      <td>0.0</td>\n",
       "      <td>11.93</td>\n",
       "      <td>0</td>\n",
       "      <td>0.573</td>\n",
       "      <td>6.120</td>\n",
       "      <td>76.7</td>\n",
       "      <td>2.2875</td>\n",
       "      <td>1</td>\n",
       "      <td>273</td>\n",
       "      <td>21.0</td>\n",
       "      <td>9.08</td>\n",
       "      <td>20.6</td>\n",
       "    </tr>\n",
       "    <tr>\n",
       "      <th>504</th>\n",
       "      <td>0.06076</td>\n",
       "      <td>0.0</td>\n",
       "      <td>11.93</td>\n",
       "      <td>0</td>\n",
       "      <td>0.573</td>\n",
       "      <td>6.976</td>\n",
       "      <td>91.0</td>\n",
       "      <td>2.1675</td>\n",
       "      <td>1</td>\n",
       "      <td>273</td>\n",
       "      <td>21.0</td>\n",
       "      <td>5.64</td>\n",
       "      <td>23.9</td>\n",
       "    </tr>\n",
       "    <tr>\n",
       "      <th>505</th>\n",
       "      <td>0.10959</td>\n",
       "      <td>0.0</td>\n",
       "      <td>11.93</td>\n",
       "      <td>0</td>\n",
       "      <td>0.573</td>\n",
       "      <td>6.794</td>\n",
       "      <td>89.3</td>\n",
       "      <td>2.3889</td>\n",
       "      <td>1</td>\n",
       "      <td>273</td>\n",
       "      <td>21.0</td>\n",
       "      <td>6.48</td>\n",
       "      <td>22.0</td>\n",
       "    </tr>\n",
       "    <tr>\n",
       "      <th>506</th>\n",
       "      <td>0.04741</td>\n",
       "      <td>0.0</td>\n",
       "      <td>11.93</td>\n",
       "      <td>0</td>\n",
       "      <td>0.573</td>\n",
       "      <td>6.030</td>\n",
       "      <td>80.8</td>\n",
       "      <td>2.5050</td>\n",
       "      <td>1</td>\n",
       "      <td>273</td>\n",
       "      <td>21.0</td>\n",
       "      <td>7.88</td>\n",
       "      <td>11.9</td>\n",
       "    </tr>\n",
       "  </tbody>\n",
       "</table>\n",
       "<p>506 rows × 13 columns</p>\n",
       "</div>"
      ],
      "text/plain": [
       "        crim    zn  indus  chas    nox     rm   age     dis  rad  tax  \\\n",
       "1    0.00632  18.0   2.31     0  0.538  6.575  65.2  4.0900    1  296   \n",
       "2    0.02731   0.0   7.07     0  0.469  6.421  78.9  4.9671    2  242   \n",
       "3    0.02729   0.0   7.07     0  0.469  7.185  61.1  4.9671    2  242   \n",
       "4    0.03237   0.0   2.18     0  0.458  6.998  45.8  6.0622    3  222   \n",
       "5    0.06905   0.0   2.18     0  0.458  7.147  54.2  6.0622    3  222   \n",
       "..       ...   ...    ...   ...    ...    ...   ...     ...  ...  ...   \n",
       "502  0.06263   0.0  11.93     0  0.573  6.593  69.1  2.4786    1  273   \n",
       "503  0.04527   0.0  11.93     0  0.573  6.120  76.7  2.2875    1  273   \n",
       "504  0.06076   0.0  11.93     0  0.573  6.976  91.0  2.1675    1  273   \n",
       "505  0.10959   0.0  11.93     0  0.573  6.794  89.3  2.3889    1  273   \n",
       "506  0.04741   0.0  11.93     0  0.573  6.030  80.8  2.5050    1  273   \n",
       "\n",
       "     ptratio  lstat  medv  \n",
       "1       15.3   4.98  24.0  \n",
       "2       17.8   9.14  21.6  \n",
       "3       17.8   4.03  34.7  \n",
       "4       18.7   2.94  33.4  \n",
       "5       18.7   5.33  36.2  \n",
       "..       ...    ...   ...  \n",
       "502     21.0   9.67  22.4  \n",
       "503     21.0   9.08  20.6  \n",
       "504     21.0   5.64  23.9  \n",
       "505     21.0   6.48  22.0  \n",
       "506     21.0   7.88  11.9  \n",
       "\n",
       "[506 rows x 13 columns]"
      ]
     },
     "execution_count": 4,
     "metadata": {},
     "output_type": "execute_result"
    }
   ],
   "source": [
    "df = pd.read_csv('~/documents/datascience/ISLR/book_content/data/Boston.csv', index_col=0)\n",
    "df"
   ]
  },
  {
   "cell_type": "markdown",
   "id": "80bfe80b",
   "metadata": {},
   "source": [
    "(a) Try out some of the regression methods explored in this chapter,\n",
    "such as best subset selection, the lasso, ridge regression, and\n",
    "PCR. Present and discuss results for the approaches that you\n",
    "consider."
   ]
  },
  {
   "cell_type": "markdown",
   "id": "32944573",
   "metadata": {},
   "source": [
    "# Linear"
   ]
  },
  {
   "cell_type": "code",
   "execution_count": 15,
   "id": "2b39c4d9",
   "metadata": {},
   "outputs": [
    {
     "data": {
      "text/plain": [
       "<module 'sklearn.feature_selection' from '/home/zacharygibbs/miniconda3/envs/datascience/lib/python3.9/site-packages/sklearn/feature_selection/__init__.py'>"
      ]
     },
     "execution_count": 15,
     "metadata": {},
     "output_type": "execute_result"
    }
   ],
   "source": [
    "#Sequential Feature Selector - does do cross-validation.\n",
    "#Model\n",
    "\n",
    "X = df.drop(['crim'], axis=1)\n",
    "y = df['crim']\n",
    "X_train, X_test, y_train, y_test = model_selection.train_test_split(X, y, test_size=0.2, random_state=42)\n",
    "fs = feature_selection.SelectFromModel(linear_model.LinearRegression()).fit(X,y)\n",
    "fs\n",
    "#clf = Pipeline([\n",
    "#  \n",
    "#  ('feature_selection', feature_selection.SelectFromModel(LinearModel())),\n",
    "#  ('linear_model', LinearModel())\n",
    "#])\n",
    "feature_selection\n",
    "\n",
    "\n",
    "#list_fwd = []"
   ]
  },
  {
   "cell_type": "code",
   "execution_count": 18,
   "id": "9bc5ddeb",
   "metadata": {},
   "outputs": [
    {
     "data": {
      "text/plain": [
       "array(['nox'], dtype=object)"
      ]
     },
     "execution_count": 18,
     "metadata": {},
     "output_type": "execute_result"
    }
   ],
   "source": [
    "fs.get_feature_names_out()"
   ]
  },
  {
   "cell_type": "code",
   "execution_count": 325,
   "id": "5d625e3d",
   "metadata": {},
   "outputs": [],
   "source": [
    "bwd_res = []\n",
    "for i in list_bwd:\n",
    "    X = df.drop(['crim'], axis=1)[i]\n",
    "    y = df['crim']\n",
    "    X_train, X_test, y_train, y_test = model_selection.train_test_split(X, y, test_size=0.2, random_state=42)\n",
    "    sc = preprocessing.StandardScaler()\n",
    "    XStd = sc.fit_transform(X)\n",
    "    X_trainStd = sc.transform(X_train)\n",
    "    X_testStd = sc.transform(X_test)\n",
    "    lm = linear_model.LinearRegression().fit(XStd, y)\n",
    "    bwd_res.append(np.mean((lm.predict(X_testStd) - y_test)**2))\n",
    "    \n",
    "fwd_res = []\n",
    "for i in list_fwd:\n",
    "    X = df.drop(['crim'], axis=1)[i]\n",
    "    y = df['crim']\n",
    "    X_train, X_test, y_train, y_test = model_selection.train_test_split(X, y, test_size=0.2, random_state=42)\n",
    "    sc = preprocessing.StandardScaler()\n",
    "    XStd = sc.fit_transform(X)\n",
    "    X_trainStd = sc.transform(X_train)\n",
    "    X_testStd = sc.transform(X_test)\n",
    "    lm = linear_model.LinearRegression().fit(XStd, y)\n",
    "    fwd_res.append(np.mean((lm.predict(X_testStd) - y_test)**2))"
   ]
  },
  {
   "cell_type": "code",
   "execution_count": 326,
   "id": "abb770e0",
   "metadata": {},
   "outputs": [
    {
     "name": "stdout",
     "output_type": "stream",
     "text": [
      "['rad'] 29.69721747614428\n",
      "['zn' 'rad'] 29.696450395439815\n",
      "['zn' 'rad' 'lstat'] 23.53827913972547\n",
      "['zn' 'chas' 'rad' 'lstat'] 23.622904541018833\n",
      "['zn' 'chas' 'nox' 'rad' 'lstat'] 23.610520659781415\n",
      "['zn' 'chas' 'nox' 'dis' 'rad' 'lstat'] 23.383884292210812\n",
      "['zn' 'chas' 'nox' 'rm' 'dis' 'rad' 'lstat'] 23.39548571088264\n",
      "['zn' 'chas' 'nox' 'rm' 'age' 'dis' 'rad' 'lstat'] 23.303260731875785\n",
      "['zn' 'chas' 'nox' 'rm' 'age' 'dis' 'rad' 'tax' 'lstat'] 23.13006713013437\n",
      "['zn' 'indus' 'chas' 'nox' 'rm' 'age' 'dis' 'rad' 'tax' 'lstat'] 22.8524382606039\n",
      "['zn' 'indus' 'chas' 'nox' 'rm' 'age' 'dis' 'rad' 'tax' 'ptratio' 'lstat'] 22.85419358742065\n"
     ]
    },
    {
     "data": {
      "image/png": "[encoded data removed]",
      "text/plain": [
       "<Figure size 432x288 with 1 Axes>"
      ]
     },
     "metadata": {
      "needs_background": "light"
     },
     "output_type": "display_data"
    }
   ],
   "source": [
    "plt.figure(1)\n",
    "plt.plot(np.arange(1, len(fwd_res)+1, 1), fwd_res, 'ko-', label='fwd')\n",
    "plt.plot(np.arange(1, len(fwd_res)+1, 1), bwd_res, 'ro-', label='bwd')\n",
    "plt.legend()\n",
    "plt.ylabel('MSE')\n",
    "#appears to me that a 6 variable model will work just fine for ridge \n",
    "#print(list_bwd[5])\n",
    "#print(list_bwd[9])\n",
    "for i, j in zip(list_bwd, bwd_res):\n",
    "    print(i,j)"
   ]
  },
  {
   "cell_type": "markdown",
   "id": "ac491c63",
   "metadata": {},
   "source": [
    "## Ridge"
   ]
  },
  {
   "cell_type": "code",
   "execution_count": 103,
   "id": "aa85814c",
   "metadata": {},
   "outputs": [
    {
     "data": {
      "text/plain": [
       "array([  -3.71950089,   -8.12569054,   -3.67491012,  -87.05014288,\n",
       "       -126.45941204])"
      ]
     },
     "execution_count": 103,
     "metadata": {},
     "output_type": "execute_result"
    }
   ],
   "source": [
    "alphas = np.logspace(-6, 6, num=100)\n",
    "ridge = linear_model.Ridge(alpha=12, random_state=3)\n",
    "#cv = model_selection.KFold(n_splits = 20)\n",
    "scores = model_selection.cross_val_score(ridge, XStd, y, scoring='neg_mean_squared_error',\n",
    "                         cv=5, n_jobs=-1)\n",
    "scores"
   ]
  },
  {
   "cell_type": "code",
   "execution_count": 328,
   "id": "1541e1d8",
   "metadata": {
    "scrolled": true
   },
   "outputs": [
    {
     "name": "stdout",
     "output_type": "stream",
     "text": [
      "Features selected by forward sequential selection: ['rad']\n",
      "Features selected by backward sequential selection: ['rad']\n",
      "Features selected by forward sequential selection: ['nox' 'rad']\n",
      "Features selected by backward sequential selection: ['rm' 'rad']\n",
      "Features selected by forward sequential selection: ['indus' 'nox' 'rad']\n",
      "Features selected by backward sequential selection: ['rm' 'dis' 'rad']\n",
      "Features selected by forward sequential selection: ['indus' 'nox' 'rad' 'tax']\n",
      "Features selected by backward sequential selection: ['zn' 'rm' 'dis' 'rad']\n",
      "Features selected by forward sequential selection: ['zn' 'indus' 'nox' 'rad' 'tax']\n",
      "Features selected by backward sequential selection: ['zn' 'rm' 'dis' 'rad' 'lstat']\n",
      "Features selected by forward sequential selection: ['zn' 'indus' 'nox' 'rad' 'tax' 'ptratio']\n",
      "Features selected by backward sequential selection: ['zn' 'chas' 'rm' 'dis' 'rad' 'lstat']\n",
      "Features selected by forward sequential selection: ['zn' 'indus' 'nox' 'rm' 'rad' 'tax' 'ptratio']\n",
      "Features selected by backward sequential selection: ['zn' 'chas' 'nox' 'rm' 'dis' 'rad' 'lstat']\n",
      "Features selected by forward sequential selection: ['zn' 'indus' 'nox' 'rm' 'dis' 'rad' 'tax' 'ptratio']\n",
      "Features selected by backward sequential selection: ['zn' 'chas' 'nox' 'rm' 'age' 'dis' 'rad' 'lstat']\n",
      "Features selected by forward sequential selection: ['zn' 'indus' 'nox' 'rm' 'age' 'dis' 'rad' 'tax' 'ptratio']\n",
      "Features selected by backward sequential selection: ['zn' 'chas' 'nox' 'rm' 'age' 'dis' 'rad' 'tax' 'lstat']\n",
      "Features selected by forward sequential selection: ['zn' 'indus' 'chas' 'nox' 'rm' 'age' 'dis' 'rad' 'tax' 'ptratio']\n",
      "Features selected by backward sequential selection: ['zn' 'indus' 'chas' 'nox' 'rm' 'age' 'dis' 'rad' 'tax' 'lstat']\n",
      "Features selected by forward sequential selection: ['zn' 'indus' 'chas' 'nox' 'rm' 'age' 'dis' 'rad' 'tax' 'ptratio' 'lstat']\n",
      "Features selected by backward sequential selection: ['zn' 'indus' 'chas' 'nox' 'rm' 'age' 'dis' 'rad' 'tax' 'ptratio' 'lstat']\n"
     ]
    },
    {
     "ename": "ValueError",
     "evalue": "n_features_to_select must be either None, an integer in [1, n_features - 1] representing the absolute number of features, or a float in (0, 1] representing a percentage of features to select. Got 12",
     "output_type": "error",
     "traceback": [
      "\u001b[0;31m---------------------------------------------------------------------------\u001b[0m",
      "\u001b[0;31mValueError\u001b[0m                                Traceback (most recent call last)",
      "\u001b[0;32m/tmp/ipykernel_6536/2574804185.py\u001b[0m in \u001b[0;36m<module>\u001b[0;34m\u001b[0m\n\u001b[1;32m     13\u001b[0m \u001b[0;34m\u001b[0m\u001b[0m\n\u001b[1;32m     14\u001b[0m     \u001b[0mfeature_names\u001b[0m \u001b[0;34m=\u001b[0m \u001b[0mnp\u001b[0m\u001b[0;34m.\u001b[0m\u001b[0marray\u001b[0m\u001b[0;34m(\u001b[0m\u001b[0mX\u001b[0m\u001b[0;34m.\u001b[0m\u001b[0mcolumns\u001b[0m\u001b[0;34m)\u001b[0m\u001b[0;34m\u001b[0m\u001b[0;34m\u001b[0m\u001b[0m\n\u001b[0;32m---> 15\u001b[0;31m     sfs_forward = feature_selection.SequentialFeatureSelector(\n\u001b[0m\u001b[1;32m     16\u001b[0m         \u001b[0mridge\u001b[0m\u001b[0;34m,\u001b[0m \u001b[0mn_features_to_select\u001b[0m\u001b[0;34m=\u001b[0m\u001b[0mn_features_to_select\u001b[0m\u001b[0;34m,\u001b[0m \u001b[0mdirection\u001b[0m\u001b[0;34m=\u001b[0m\u001b[0;34m\"forward\"\u001b[0m\u001b[0;34m\u001b[0m\u001b[0;34m\u001b[0m\u001b[0m\n\u001b[1;32m     17\u001b[0m     ).fit(XStd, y)\n",
      "\u001b[0;32m~/miniconda3/envs/datascience/lib/python3.9/site-packages/sklearn/feature_selection/_sequential.py\u001b[0m in \u001b[0;36mfit\u001b[0;34m(self, X, y)\u001b[0m\n\u001b[1;32m    180\u001b[0m         \u001b[0;32melif\u001b[0m \u001b[0misinstance\u001b[0m\u001b[0;34m(\u001b[0m\u001b[0mself\u001b[0m\u001b[0;34m.\u001b[0m\u001b[0mn_features_to_select\u001b[0m\u001b[0;34m,\u001b[0m \u001b[0mnumbers\u001b[0m\u001b[0;34m.\u001b[0m\u001b[0mIntegral\u001b[0m\u001b[0;34m)\u001b[0m\u001b[0;34m:\u001b[0m\u001b[0;34m\u001b[0m\u001b[0;34m\u001b[0m\u001b[0m\n\u001b[1;32m    181\u001b[0m             \u001b[0;32mif\u001b[0m \u001b[0;32mnot\u001b[0m \u001b[0;36m0\u001b[0m \u001b[0;34m<\u001b[0m \u001b[0mself\u001b[0m\u001b[0;34m.\u001b[0m\u001b[0mn_features_to_select\u001b[0m \u001b[0;34m<\u001b[0m \u001b[0mn_features\u001b[0m\u001b[0;34m:\u001b[0m\u001b[0;34m\u001b[0m\u001b[0;34m\u001b[0m\u001b[0m\n\u001b[0;32m--> 182\u001b[0;31m                 \u001b[0;32mraise\u001b[0m \u001b[0mValueError\u001b[0m\u001b[0;34m(\u001b[0m\u001b[0merror_msg\u001b[0m\u001b[0;34m)\u001b[0m\u001b[0;34m\u001b[0m\u001b[0;34m\u001b[0m\u001b[0m\n\u001b[0m\u001b[1;32m    183\u001b[0m             \u001b[0mself\u001b[0m\u001b[0;34m.\u001b[0m\u001b[0mn_features_to_select_\u001b[0m \u001b[0;34m=\u001b[0m \u001b[0mself\u001b[0m\u001b[0;34m.\u001b[0m\u001b[0mn_features_to_select\u001b[0m\u001b[0;34m\u001b[0m\u001b[0;34m\u001b[0m\u001b[0m\n\u001b[1;32m    184\u001b[0m         \u001b[0;32melif\u001b[0m \u001b[0misinstance\u001b[0m\u001b[0;34m(\u001b[0m\u001b[0mself\u001b[0m\u001b[0;34m.\u001b[0m\u001b[0mn_features_to_select\u001b[0m\u001b[0;34m,\u001b[0m \u001b[0mnumbers\u001b[0m\u001b[0;34m.\u001b[0m\u001b[0mReal\u001b[0m\u001b[0;34m)\u001b[0m\u001b[0;34m:\u001b[0m\u001b[0;34m\u001b[0m\u001b[0;34m\u001b[0m\u001b[0m\n",
      "\u001b[0;31mValueError\u001b[0m: n_features_to_select must be either None, an integer in [1, n_features - 1] representing the absolute number of features, or a float in (0, 1] representing a percentage of features to select. Got 12"
     ]
    }
   ],
   "source": [
    "list_fwd = []\n",
    "list_bwd = []\n",
    "X = df.drop(['crim'], axis=1)\n",
    "XStd = sc.fit_transform(X)\n",
    "for i in range(len(X.columns)):\n",
    "\n",
    "    n_features_to_select = i + 1\n",
    "    ridge = linear_model.RidgeCV(\n",
    "                                 alphas=alphas,\n",
    "                                 store_cv_values=True,\n",
    "                                 alpha_per_target=True\n",
    "                                )\n",
    "\n",
    "    feature_names = np.array(X.columns)\n",
    "    sfs_forward = feature_selection.SequentialFeatureSelector(\n",
    "        ridge, n_features_to_select=n_features_to_select, direction=\"forward\"\n",
    "    ).fit(XStd, y)\n",
    "\n",
    "    sfs_backward = feature_selection.SequentialFeatureSelector(\n",
    "        ridge, n_features_to_select=n_features_to_select, direction=\"backward\"\n",
    "    ).fit(XStd, y)\n",
    "\n",
    "    print(\n",
    "        \"Features selected by forward sequential selection: \"\n",
    "        f\"{feature_names[sfs_forward.get_support()]}\"\n",
    "    )\n",
    "    print(\n",
    "        \"Features selected by backward sequential selection: \"\n",
    "        f\"{feature_names[sfs_backward.get_support()]}\"\n",
    "    )\n",
    "    list_fwd.append(feature_names[sfs_forward.get_support()])\n",
    "    list_bwd.append(feature_names[sfs_backward.get_support()])"
   ]
  },
  {
   "cell_type": "code",
   "execution_count": 329,
   "id": "6ed85688",
   "metadata": {
    "scrolled": true
   },
   "outputs": [],
   "source": [
    "bwd_res = []\n",
    "for i in list_bwd:\n",
    "    X = df.drop(['crim'], axis=1)[i]\n",
    "    y = df['crim']\n",
    "    X_train, X_test, y_train, y_test = model_selection.train_test_split(X, y, test_size=0.2, random_state=42)\n",
    "    sc = preprocessing.StandardScaler()\n",
    "    XStd = sc.fit_transform(X)\n",
    "    X_trainStd = sc.transform(X_train)\n",
    "    X_testStd = sc.transform(X_test)\n",
    "    alphas = np.logspace(-1, 1.3, num=100)\n",
    "    ridge = linear_model.RidgeCV(\n",
    "                                 alphas=alphas,\n",
    "                                 store_cv_values=True,\n",
    "                                 alpha_per_target=True\n",
    "                                ).fit(XStd, y)\n",
    "    bwd_res.append(np.mean((ridge.predict(X_testStd) - y_test)**2))\n",
    "    \n",
    "fwd_res = []\n",
    "for i in list_fwd:\n",
    "    X = df.drop(['crim'], axis=1)[i]\n",
    "    y = df['crim']\n",
    "    X_train, X_test, y_train, y_test = model_selection.train_test_split(X, y, test_size=0.2, random_state=42)\n",
    "    sc = preprocessing.StandardScaler()\n",
    "    XStd = sc.fit_transform(X)\n",
    "    X_trainStd = sc.transform(X_train)\n",
    "    X_testStd = sc.transform(X_test)\n",
    "    alphas = np.logspace(-1, 1.3, num=100)\n",
    "    ridge = linear_model.RidgeCV(\n",
    "                                 alphas=alphas,\n",
    "                                 store_cv_values=True,\n",
    "                                 alpha_per_target=True\n",
    "                                ).fit(XStd, y)\n",
    "    fwd_res.append(np.mean((ridge.predict(X_testStd) - y_test)**2))"
   ]
  },
  {
   "cell_type": "code",
   "execution_count": 330,
   "id": "db08c882",
   "metadata": {
    "scrolled": true
   },
   "outputs": [
    {
     "name": "stdout",
     "output_type": "stream",
     "text": [
      "['rad'] 29.645078626323816\n",
      "['rm' 'rad'] 28.5207985652776\n",
      "['rm' 'dis' 'rad'] 28.222842434482505\n",
      "['zn' 'rm' 'dis' 'rad'] 27.56860238428119\n",
      "['zn' 'rm' 'dis' 'rad' 'lstat'] 23.371994149915338\n",
      "['zn' 'chas' 'rm' 'dis' 'rad' 'lstat'] 23.478995912399807\n",
      "['zn' 'chas' 'nox' 'rm' 'dis' 'rad' 'lstat'] 23.326886606962802\n",
      "['zn' 'chas' 'nox' 'rm' 'age' 'dis' 'rad' 'lstat'] 23.257215846518495\n",
      "['zn' 'chas' 'nox' 'rm' 'age' 'dis' 'rad' 'tax' 'lstat'] 23.16008013258261\n",
      "['zn' 'indus' 'chas' 'nox' 'rm' 'age' 'dis' 'rad' 'tax' 'lstat'] 22.870406948214466\n",
      "['zn' 'indus' 'chas' 'nox' 'rm' 'age' 'dis' 'rad' 'tax' 'ptratio' 'lstat'] 22.86289978919747\n"
     ]
    },
    {
     "data": {
      "image/png": "[encoded data removed]",
      "text/plain": [
       "<Figure size 432x288 with 1 Axes>"
      ]
     },
     "metadata": {
      "needs_background": "light"
     },
     "output_type": "display_data"
    }
   ],
   "source": [
    "plt.figure(1)\n",
    "plt.plot(np.arange(1, len(fwd_res)+1, 1), fwd_res, 'ko-', label='fwd')\n",
    "plt.plot(np.arange(1, len(fwd_res)+1, 1), bwd_res, 'ro-', label='bwd')\n",
    "plt.legend()\n",
    "plt.ylabel('MSE')\n",
    "#appears to me that a 6 variable model will work just fine for ridge \n",
    "for i, j in zip(list_bwd, bwd_res):\n",
    "    print(i,j)\n"
   ]
  },
  {
   "cell_type": "code",
   "execution_count": 317,
   "id": "1faac405",
   "metadata": {},
   "outputs": [
    {
     "name": "stdout",
     "output_type": "stream",
     "text": [
      "23.16008013258261\n",
      "3.6021820400508573\n",
      "-43.11569060034128\n"
     ]
    },
    {
     "data": {
      "text/plain": [
       "[<matplotlib.lines.Line2D at 0x7efc382347c0>]"
      ]
     },
     "execution_count": 317,
     "metadata": {},
     "output_type": "execute_result"
    },
    {
     "data": {
      "image/png": "[encoded data removed]",
      "text/plain": [
       "<Figure size 432x288 with 1 Axes>"
      ]
     },
     "metadata": {
      "needs_background": "light"
     },
     "output_type": "display_data"
    },
    {
     "data": {
      "image/png": "[encoded data removed]",
      "text/plain": [
       "<Figure size 432x288 with 1 Axes>"
      ]
     },
     "metadata": {
      "needs_background": "light"
     },
     "output_type": "display_data"
    }
   ],
   "source": [
    "X = df.drop(['crim'], axis=1)[list_bwd[8]]\n",
    "y = df['crim']\n",
    "X_train, X_test, y_train, y_test = model_selection.train_test_split(X, y, test_size=0.2, random_state=42)\n",
    "sc = preprocessing.StandardScaler()\n",
    "XStd = sc.fit_transform(X)\n",
    "X_trainStd = sc.transform(X_train)\n",
    "X_testStd = sc.transform(X_test)\n",
    "\n",
    "alphas = np.logspace(-1, 1.3, num=100)\n",
    "ridge = linear_model.RidgeCV(\n",
    "                             alphas=alphas,\n",
    "                             store_cv_values=True,\n",
    "                             alpha_per_target=True\n",
    "                            ).fit(XStd, y)\n",
    "print(np.mean((ridge.predict(X_testStd) - y_test)**2))\n",
    "print(ridge.alpha_)\n",
    "print(ridge.best_score_)\n",
    "importance = np.abs(ridge.coef_)\n",
    "feature_names = np.array(X.columns)\n",
    "\n",
    "plt.bar(height=importance, x=feature_names)\n",
    "plt.title(\"Feature importances via coefficients\")\n",
    "\n",
    "plt.figure(2)\n",
    "plt.semilogx(alphas, np.mean(ridge.cv_values_,axis=0))"
   ]
  },
  {
   "cell_type": "code",
   "execution_count": 271,
   "id": "d0ce24c3",
   "metadata": {
    "scrolled": false
   },
   "outputs": [
    {
     "data": {
      "text/plain": [
       "22.86289978919747"
      ]
     },
     "execution_count": 271,
     "metadata": {},
     "output_type": "execute_result"
    }
   ],
   "source": [
    "np.mean((ridge.predict(X_testStd) - y_test)**2)"
   ]
  },
  {
   "cell_type": "markdown",
   "id": "28ff152e",
   "metadata": {},
   "source": [
    "(b) Propose a model (or set of models) that seem to perform well on\n",
    "this data set, and justify your answer. Make sure that you are\n",
    "evaluating model performance using validation set error, crossvalidation, or some other reasonable alternative, as opposed to\n",
    "using training error."
   ]
  },
  {
   "cell_type": "code",
   "execution_count": 207,
   "id": "277b61fe",
   "metadata": {
    "scrolled": false
   },
   "outputs": [
    {
     "name": "stderr",
     "output_type": "stream",
     "text": [
      "[Parallel(n_jobs=-1)]: Using backend ThreadingBackend with 8 concurrent workers.\n",
      "..........................................................................................................................................................................................................................................................................................................................................................................................................[Parallel(n_jobs=-1)]: Done   2 out of   5 | elapsed:    0.1s remaining:    0.1s\n",
      "..........................................................................................................[Parallel(n_jobs=-1)]: Done   5 out of   5 | elapsed:    0.1s finished\n"
     ]
    },
    {
     "data": {
      "text/plain": [
       "Text(0.5, 1.0, 'Feature importances via coefficients')"
      ]
     },
     "execution_count": 207,
     "metadata": {},
     "output_type": "execute_result"
    },
    {
     "data": {
      "image/png": "[encoded data removed]",
      "text/plain": [
       "<Figure size 432x288 with 1 Axes>"
      ]
     },
     "metadata": {
      "needs_background": "light"
     },
     "output_type": "display_data"
    }
   ],
   "source": [
    "alphas = np.logspace(-1, 3, num=100)\n",
    "lasso = linear_model.LassoCV(\n",
    "    alphas=alphas,\n",
    "    verbose=True, n_jobs=-1\n",
    "                            ).fit(XStd, y)\n",
    "importance = np.abs(lasso.coef_)\n",
    "feature_names = np.array(X.columns)\n",
    "plt.bar(height=importance, x=feature_names)\n",
    "plt.title(\"Feature importances via coefficients\")\n",
    "\n",
    "#plt.figure(2)\n",
    "#plt.semilogx(alphas, np.mean(lasso.cv_values_,axis=0))"
   ]
  },
  {
   "cell_type": "code",
   "execution_count": 208,
   "id": "bc65ec4f",
   "metadata": {
    "scrolled": true
   },
   "outputs": [
    {
     "name": "stdout",
     "output_type": "stream",
     "text": [
      "0.36783797718286343\n",
      "25.021909253246104\n"
     ]
    }
   ],
   "source": [
    "print(lasso.alpha_)\n",
    "print(np.mean((lasso.predict(X_testStd) - y_test)**2))"
   ]
  },
  {
   "cell_type": "code",
   "execution_count": 371,
   "id": "110b31d7",
   "metadata": {},
   "outputs": [
    {
     "data": {
      "text/plain": [
       "array([[ 2.40755886],\n",
       "       [-2.23846179],\n",
       "       [ 7.97316868],\n",
       "       [-1.43782514],\n",
       "       [10.74225829],\n",
       "       [ 2.32652072],\n",
       "       [ 3.47493049],\n",
       "       [ 6.68019349],\n",
       "       [ 8.68018219],\n",
       "       [ 4.59413906],\n",
       "       [ 3.69486211],\n",
       "       [ 2.24141174],\n",
       "       [14.51402922],\n",
       "       [ 1.53388157],\n",
       "       [ 1.97844514],\n",
       "       [ 8.29386863],\n",
       "       [ 3.55369934],\n",
       "       [13.59970327],\n",
       "       [-4.08103447],\n",
       "       [11.12388875],\n",
       "       [-1.63547154],\n",
       "       [-1.31089451],\n",
       "       [ 4.28142143],\n",
       "       [ 1.74226058],\n",
       "       [11.02306726],\n",
       "       [10.52093642],\n",
       "       [ 1.10755248],\n",
       "       [10.67454793],\n",
       "       [ 2.63981747],\n",
       "       [ 4.33457544],\n",
       "       [ 3.72267585],\n",
       "       [ 0.51663708],\n",
       "       [ 9.91011332],\n",
       "       [11.03851633],\n",
       "       [10.50597718],\n",
       "       [ 7.69675499],\n",
       "       [-1.19801469],\n",
       "       [ 0.46160094],\n",
       "       [ 1.30596588],\n",
       "       [-1.33793397],\n",
       "       [ 5.52251595],\n",
       "       [ 0.3318205 ],\n",
       "       [-4.53392656],\n",
       "       [ 0.08925837],\n",
       "       [ 0.98200761],\n",
       "       [11.26493339],\n",
       "       [ 3.95343217],\n",
       "       [-1.52949223],\n",
       "       [ 9.32826935],\n",
       "       [ 0.10106943],\n",
       "       [ 1.82825062],\n",
       "       [-1.98035584],\n",
       "       [ 3.58733778],\n",
       "       [ 2.33956461],\n",
       "       [ 0.06665444],\n",
       "       [ 7.42148594],\n",
       "       [11.23124706],\n",
       "       [-3.49935073],\n",
       "       [-0.26065621],\n",
       "       [ 1.37249075],\n",
       "       [-1.16456471],\n",
       "       [-5.21018623],\n",
       "       [ 0.34357735],\n",
       "       [ 1.82485786],\n",
       "       [-3.31711433],\n",
       "       [ 3.91104947],\n",
       "       [10.88622327],\n",
       "       [-1.39512608],\n",
       "       [-3.36574495],\n",
       "       [10.97014053],\n",
       "       [ 0.0563392 ],\n",
       "       [ 7.26903003],\n",
       "       [12.27874686],\n",
       "       [-4.19687187],\n",
       "       [ 1.47101062],\n",
       "       [13.24415686],\n",
       "       [ 3.89372743],\n",
       "       [-4.28119508],\n",
       "       [11.25188261],\n",
       "       [ 9.05642506],\n",
       "       [-0.70159365],\n",
       "       [11.92024666],\n",
       "       [-3.9677641 ],\n",
       "       [12.76563641],\n",
       "       [ 3.2037905 ],\n",
       "       [ 1.45034359],\n",
       "       [10.27254563],\n",
       "       [ 0.02185112],\n",
       "       [-0.72776037],\n",
       "       [ 5.38272251],\n",
       "       [ 1.52355464],\n",
       "       [12.42313263],\n",
       "       [ 5.00534484],\n",
       "       [ 0.0581934 ],\n",
       "       [11.33109167],\n",
       "       [ 4.82393603],\n",
       "       [ 9.90518924],\n",
       "       [13.49257896],\n",
       "       [11.09970284],\n",
       "       [10.7007985 ],\n",
       "       [ 0.40946645],\n",
       "       [ 1.05441319]])"
      ]
     },
     "execution_count": 371,
     "metadata": {},
     "output_type": "execute_result"
    }
   ],
   "source": [
    "pls.predict(X_test)"
   ]
  },
  {
   "cell_type": "code",
   "execution_count": 380,
   "id": "7e17955a",
   "metadata": {
    "scrolled": false
   },
   "outputs": [
    {
     "name": "stdout",
     "output_type": "stream",
     "text": [
      "1\n",
      "(102, 1)\n",
      "2\n",
      "(102, 1)\n",
      "3\n",
      "(102, 1)\n",
      "4\n",
      "(102, 1)\n",
      "5\n",
      "(102, 1)\n",
      "6\n",
      "(102, 1)\n",
      "7\n",
      "(102, 1)\n",
      "8\n",
      "(102, 1)\n",
      "9\n",
      "(102, 1)\n"
     ]
    }
   ],
   "source": [
    "from sklearn.model_selection import train_test_split\n",
    "from sklearn.pipeline import make_pipeline\n",
    "from sklearn.linear_model import LinearRegression\n",
    "from sklearn.preprocessing import StandardScaler\n",
    "from sklearn.decomposition import PCA\n",
    "from sklearn.cross_decomposition import PLSRegression\n",
    "\n",
    "X = df.drop(['crim'], axis=1)[list_bwd[8]]\n",
    "y = df['crim']\n",
    "X_train, X_test, y_train, y_test = model_selection.train_test_split(X, y, test_size=0.2, random_state=42)\n",
    "\n",
    "pcr_list = []\n",
    "pls_list = []\n",
    "for n_component in np.arange(1, 10):\n",
    "    print(n_component)\n",
    "    pcr = make_pipeline(StandardScaler(), PCA(n_components=n_component), LinearRegression())\n",
    "    pcr.fit(X_train, y_train)\n",
    "    #print(f\"PCR r-squared {pcr.score(X_test, y_test):.3f}\")\n",
    "#print(f\"PLS r-squared {pls.score(X_test, y_test):.3f}\")\n",
    "    pcr_list.append(np.mean((y_test - pcr.predict(X_test))**2))\n",
    "    pca = pcr.named_steps[\"pca\"]  # retrieve the PCA step of the pipeline\n",
    "\n",
    "\n",
    "\n",
    "    pls = PLSRegression(n_components=n_component)\n",
    "    pls.fit(X_train, y_train)\n",
    "    print(pls.predict(X_test).shape)\n",
    "    pls_list.append(np.mean((y_test - np.ravel(pls.predict(X_test)))**2))\n",
    "\n",
    "\n",
    "\n"
   ]
  },
  {
   "cell_type": "code",
   "execution_count": 384,
   "id": "2e410a32",
   "metadata": {},
   "outputs": [
    {
     "name": "stdout",
     "output_type": "stream",
     "text": [
      "29.83099279748429 32.580199910889505\n",
      "27.420446960997303 30.58859575633192\n",
      "26.97130142250501 27.75500805577393\n",
      "25.51362909710855 28.336673082342877\n",
      "24.973515398130875 28.54652368548647\n",
      "25.371687416036668 27.53370687223086\n",
      "25.34913621886982 27.828241486708446\n",
      "25.25421684228832 26.794984915547587\n",
      "25.26178930780844 25.26178930780845\n"
     ]
    },
    {
     "data": {
      "image/png": "[encoded data removed]",
      "text/plain": [
       "<Figure size 432x288 with 1 Axes>"
      ]
     },
     "metadata": {
      "needs_background": "light"
     },
     "output_type": "display_data"
    }
   ],
   "source": [
    "plt.figure(1)\n",
    "plt.plot(np.arange(1, len(pcr_list)+1, 1), pcr_list, 'ko-', label='pcr')\n",
    "plt.plot(np.arange(1, len(pls_list)+1, 1), pls_list, 'ro-', label='pls')\n",
    "plt.legend()\n",
    "plt.ylabel('MSE')\n",
    "#appears to me that a 6 variable model will work just fine for ridge \n",
    "for i, j in zip(pls_list, pcr_list):\n",
    "    print(i,j)\n"
   ]
  },
  {
   "cell_type": "code",
   "execution_count": 338,
   "id": "9f056032",
   "metadata": {},
   "outputs": [
    {
     "data": {
      "text/plain": [
       "{'standardscaler': StandardScaler(),\n",
       " 'pca': PCA(n_components=1),\n",
       " 'linearregression': LinearRegression()}"
      ]
     },
     "execution_count": 338,
     "metadata": {},
     "output_type": "execute_result"
    }
   ],
   "source": [
    "pcr.named_steps"
   ]
  },
  {
   "cell_type": "code",
   "execution_count": 386,
   "id": "0b794747",
   "metadata": {},
   "outputs": [],
   "source": [
    "#Linear - ['zn' 'indus' 'chas' 'nox' 'rm' 'age' 'dis' 'rad' 'tax' 'lstat'] 22.8524382606039\n",
    "#Ridge - ['zn' 'indus' 'chas' 'nox' 'rm' 'age' 'dis' 'rad' 'tax' 'lstat'] 22.870406948214466\n",
    "#Lasso - does zero out some variables; 25.021909253246104\n",
    "#PCR - 24.97 at 5 principle components! not bad, but not as good as Linear and ridge.\n",
    "#pls - 26+ at best"
   ]
  },
  {
   "cell_type": "markdown",
   "id": "68ff94df",
   "metadata": {},
   "source": [
    "(c) Does your chosen model involve all of the features in the data\n",
    "set? Why or why not"
   ]
  }
 ],
 "metadata": {
  "kernelspec": {
   "display_name": "Data Science python kernel",
   "language": "python",
   "name": "datascience"
  },
  "language_info": {
   "codemirror_mode": {
    "name": "ipython",
    "version": 3
   },
   "file_extension": ".py",
   "mimetype": "text/x-python",
   "name": "python",
   "nbconvert_exporter": "python",
   "pygments_lexer": "ipython3",
   "version": "3.9.7"
  }
 },
 "nbformat": 4,
 "nbformat_minor": 5
}
