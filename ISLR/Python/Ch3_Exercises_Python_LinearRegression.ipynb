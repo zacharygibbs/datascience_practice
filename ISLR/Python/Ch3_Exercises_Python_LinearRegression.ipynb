{
 "cells": [
  {
   "cell_type": "markdown",
   "id": "1bb1011d",
   "metadata": {},
   "source": [
    "10. This question should be answered using the Carseats data set."
   ]
  },
  {
   "cell_type": "code",
   "execution_count": 2,
   "id": "399392ba",
   "metadata": {},
   "outputs": [],
   "source": [
    "import sklearn\n",
    "from sklearn import linear_model\n",
    "from sklearn import model_selection\n",
    "from sklearn import preprocessing\n",
    "import seaborn as sns\n",
    "import pandas as pd\n",
    "import numpy as np\n",
    "import matplotlib.pyplot as plt"
   ]
  },
  {
   "cell_type": "code",
   "execution_count": 7,
   "id": "8da2c21c",
   "metadata": {},
   "outputs": [
    {
     "data": {
      "text/html": [
       "<div>\n",
       "<style scoped>\n",
       "    .dataframe tbody tr th:only-of-type {\n",
       "        vertical-align: middle;\n",
       "    }\n",
       "\n",
       "    .dataframe tbody tr th {\n",
       "        vertical-align: top;\n",
       "    }\n",
       "\n",
       "    .dataframe thead th {\n",
       "        text-align: right;\n",
       "    }\n",
       "</style>\n",
       "<table border=\"1\" class=\"dataframe\">\n",
       "  <thead>\n",
       "    <tr style=\"text-align: right;\">\n",
       "      <th></th>\n",
       "      <th>Sales</th>\n",
       "      <th>CompPrice</th>\n",
       "      <th>Income</th>\n",
       "      <th>Advertising</th>\n",
       "      <th>Population</th>\n",
       "      <th>Price</th>\n",
       "      <th>ShelveLoc</th>\n",
       "      <th>Age</th>\n",
       "      <th>Education</th>\n",
       "      <th>Urban</th>\n",
       "      <th>US</th>\n",
       "    </tr>\n",
       "  </thead>\n",
       "  <tbody>\n",
       "    <tr>\n",
       "      <th>1</th>\n",
       "      <td>9.50</td>\n",
       "      <td>138</td>\n",
       "      <td>73</td>\n",
       "      <td>11</td>\n",
       "      <td>276</td>\n",
       "      <td>120</td>\n",
       "      <td>Bad</td>\n",
       "      <td>42</td>\n",
       "      <td>17</td>\n",
       "      <td>Yes</td>\n",
       "      <td>Yes</td>\n",
       "    </tr>\n",
       "    <tr>\n",
       "      <th>2</th>\n",
       "      <td>11.22</td>\n",
       "      <td>111</td>\n",
       "      <td>48</td>\n",
       "      <td>16</td>\n",
       "      <td>260</td>\n",
       "      <td>83</td>\n",
       "      <td>Good</td>\n",
       "      <td>65</td>\n",
       "      <td>10</td>\n",
       "      <td>Yes</td>\n",
       "      <td>Yes</td>\n",
       "    </tr>\n",
       "    <tr>\n",
       "      <th>3</th>\n",
       "      <td>10.06</td>\n",
       "      <td>113</td>\n",
       "      <td>35</td>\n",
       "      <td>10</td>\n",
       "      <td>269</td>\n",
       "      <td>80</td>\n",
       "      <td>Medium</td>\n",
       "      <td>59</td>\n",
       "      <td>12</td>\n",
       "      <td>Yes</td>\n",
       "      <td>Yes</td>\n",
       "    </tr>\n",
       "    <tr>\n",
       "      <th>4</th>\n",
       "      <td>7.40</td>\n",
       "      <td>117</td>\n",
       "      <td>100</td>\n",
       "      <td>4</td>\n",
       "      <td>466</td>\n",
       "      <td>97</td>\n",
       "      <td>Medium</td>\n",
       "      <td>55</td>\n",
       "      <td>14</td>\n",
       "      <td>Yes</td>\n",
       "      <td>Yes</td>\n",
       "    </tr>\n",
       "    <tr>\n",
       "      <th>5</th>\n",
       "      <td>4.15</td>\n",
       "      <td>141</td>\n",
       "      <td>64</td>\n",
       "      <td>3</td>\n",
       "      <td>340</td>\n",
       "      <td>128</td>\n",
       "      <td>Bad</td>\n",
       "      <td>38</td>\n",
       "      <td>13</td>\n",
       "      <td>Yes</td>\n",
       "      <td>No</td>\n",
       "    </tr>\n",
       "    <tr>\n",
       "      <th>...</th>\n",
       "      <td>...</td>\n",
       "      <td>...</td>\n",
       "      <td>...</td>\n",
       "      <td>...</td>\n",
       "      <td>...</td>\n",
       "      <td>...</td>\n",
       "      <td>...</td>\n",
       "      <td>...</td>\n",
       "      <td>...</td>\n",
       "      <td>...</td>\n",
       "      <td>...</td>\n",
       "    </tr>\n",
       "    <tr>\n",
       "      <th>396</th>\n",
       "      <td>12.57</td>\n",
       "      <td>138</td>\n",
       "      <td>108</td>\n",
       "      <td>17</td>\n",
       "      <td>203</td>\n",
       "      <td>128</td>\n",
       "      <td>Good</td>\n",
       "      <td>33</td>\n",
       "      <td>14</td>\n",
       "      <td>Yes</td>\n",
       "      <td>Yes</td>\n",
       "    </tr>\n",
       "    <tr>\n",
       "      <th>397</th>\n",
       "      <td>6.14</td>\n",
       "      <td>139</td>\n",
       "      <td>23</td>\n",
       "      <td>3</td>\n",
       "      <td>37</td>\n",
       "      <td>120</td>\n",
       "      <td>Medium</td>\n",
       "      <td>55</td>\n",
       "      <td>11</td>\n",
       "      <td>No</td>\n",
       "      <td>Yes</td>\n",
       "    </tr>\n",
       "    <tr>\n",
       "      <th>398</th>\n",
       "      <td>7.41</td>\n",
       "      <td>162</td>\n",
       "      <td>26</td>\n",
       "      <td>12</td>\n",
       "      <td>368</td>\n",
       "      <td>159</td>\n",
       "      <td>Medium</td>\n",
       "      <td>40</td>\n",
       "      <td>18</td>\n",
       "      <td>Yes</td>\n",
       "      <td>Yes</td>\n",
       "    </tr>\n",
       "    <tr>\n",
       "      <th>399</th>\n",
       "      <td>5.94</td>\n",
       "      <td>100</td>\n",
       "      <td>79</td>\n",
       "      <td>7</td>\n",
       "      <td>284</td>\n",
       "      <td>95</td>\n",
       "      <td>Bad</td>\n",
       "      <td>50</td>\n",
       "      <td>12</td>\n",
       "      <td>Yes</td>\n",
       "      <td>Yes</td>\n",
       "    </tr>\n",
       "    <tr>\n",
       "      <th>400</th>\n",
       "      <td>9.71</td>\n",
       "      <td>134</td>\n",
       "      <td>37</td>\n",
       "      <td>0</td>\n",
       "      <td>27</td>\n",
       "      <td>120</td>\n",
       "      <td>Good</td>\n",
       "      <td>49</td>\n",
       "      <td>16</td>\n",
       "      <td>Yes</td>\n",
       "      <td>Yes</td>\n",
       "    </tr>\n",
       "  </tbody>\n",
       "</table>\n",
       "<p>400 rows × 11 columns</p>\n",
       "</div>"
      ],
      "text/plain": [
       "     Sales  CompPrice  Income  Advertising  Population  Price ShelveLoc  Age  \\\n",
       "1     9.50        138      73           11         276    120       Bad   42   \n",
       "2    11.22        111      48           16         260     83      Good   65   \n",
       "3    10.06        113      35           10         269     80    Medium   59   \n",
       "4     7.40        117     100            4         466     97    Medium   55   \n",
       "5     4.15        141      64            3         340    128       Bad   38   \n",
       "..     ...        ...     ...          ...         ...    ...       ...  ...   \n",
       "396  12.57        138     108           17         203    128      Good   33   \n",
       "397   6.14        139      23            3          37    120    Medium   55   \n",
       "398   7.41        162      26           12         368    159    Medium   40   \n",
       "399   5.94        100      79            7         284     95       Bad   50   \n",
       "400   9.71        134      37            0          27    120      Good   49   \n",
       "\n",
       "     Education Urban   US  \n",
       "1           17   Yes  Yes  \n",
       "2           10   Yes  Yes  \n",
       "3           12   Yes  Yes  \n",
       "4           14   Yes  Yes  \n",
       "5           13   Yes   No  \n",
       "..         ...   ...  ...  \n",
       "396         14   Yes  Yes  \n",
       "397         11    No  Yes  \n",
       "398         18   Yes  Yes  \n",
       "399         12   Yes  Yes  \n",
       "400         16   Yes  Yes  \n",
       "\n",
       "[400 rows x 11 columns]"
      ]
     },
     "execution_count": 7,
     "metadata": {},
     "output_type": "execute_result"
    }
   ],
   "source": [
    "df = pd.read_csv('https://raw.githubusercontent.com/JWarmenhoven/ISLR-python/master/Notebooks/Data/Carseats.csv', index_col=0)\n",
    "df"
   ]
  },
  {
   "cell_type": "markdown",
   "id": "a5f2d7a0",
   "metadata": {},
   "source": [
    "(a) Fit a multiple regression model to predict Sales using Price,\n",
    "Urban, and US."
   ]
  },
  {
   "cell_type": "code",
   "execution_count": 190,
   "id": "7ea04984",
   "metadata": {},
   "outputs": [],
   "source": [
    "df['US'] = (df['US']=='Yes').astype('int')"
   ]
  },
  {
   "cell_type": "code",
   "execution_count": 191,
   "id": "4eef168a",
   "metadata": {
    "scrolled": true
   },
   "outputs": [],
   "source": [
    "df['Urban'] = (df['Urban']=='Yes').astype('int')"
   ]
  },
  {
   "cell_type": "code",
   "execution_count": 192,
   "id": "44be6373",
   "metadata": {},
   "outputs": [],
   "source": [
    "shelveloc_cat = pd.get_dummies(df['ShelveLoc'], prefix='ShelveLoc').iloc[:,1:]\n",
    "df = df.drop('ShelveLoc', axis=1)"
   ]
  },
  {
   "cell_type": "code",
   "execution_count": 193,
   "id": "a37d411f",
   "metadata": {},
   "outputs": [
    {
     "data": {
      "text/html": [
       "<div>\n",
       "<style scoped>\n",
       "    .dataframe tbody tr th:only-of-type {\n",
       "        vertical-align: middle;\n",
       "    }\n",
       "\n",
       "    .dataframe tbody tr th {\n",
       "        vertical-align: top;\n",
       "    }\n",
       "\n",
       "    .dataframe thead th {\n",
       "        text-align: right;\n",
       "    }\n",
       "</style>\n",
       "<table border=\"1\" class=\"dataframe\">\n",
       "  <thead>\n",
       "    <tr style=\"text-align: right;\">\n",
       "      <th></th>\n",
       "      <th>Sales</th>\n",
       "      <th>CompPrice</th>\n",
       "      <th>Income</th>\n",
       "      <th>Advertising</th>\n",
       "      <th>Population</th>\n",
       "      <th>Price</th>\n",
       "      <th>Age</th>\n",
       "      <th>Education</th>\n",
       "      <th>Urban</th>\n",
       "      <th>US</th>\n",
       "      <th>ShelveLoc_Good</th>\n",
       "      <th>ShelveLoc_Medium</th>\n",
       "    </tr>\n",
       "  </thead>\n",
       "  <tbody>\n",
       "    <tr>\n",
       "      <th>0</th>\n",
       "      <td>9.50</td>\n",
       "      <td>138</td>\n",
       "      <td>73</td>\n",
       "      <td>11</td>\n",
       "      <td>276</td>\n",
       "      <td>120</td>\n",
       "      <td>42</td>\n",
       "      <td>17</td>\n",
       "      <td>1</td>\n",
       "      <td>1</td>\n",
       "      <td>0</td>\n",
       "      <td>0</td>\n",
       "    </tr>\n",
       "    <tr>\n",
       "      <th>1</th>\n",
       "      <td>11.22</td>\n",
       "      <td>111</td>\n",
       "      <td>48</td>\n",
       "      <td>16</td>\n",
       "      <td>260</td>\n",
       "      <td>83</td>\n",
       "      <td>65</td>\n",
       "      <td>10</td>\n",
       "      <td>1</td>\n",
       "      <td>1</td>\n",
       "      <td>1</td>\n",
       "      <td>0</td>\n",
       "    </tr>\n",
       "    <tr>\n",
       "      <th>2</th>\n",
       "      <td>10.06</td>\n",
       "      <td>113</td>\n",
       "      <td>35</td>\n",
       "      <td>10</td>\n",
       "      <td>269</td>\n",
       "      <td>80</td>\n",
       "      <td>59</td>\n",
       "      <td>12</td>\n",
       "      <td>1</td>\n",
       "      <td>1</td>\n",
       "      <td>0</td>\n",
       "      <td>1</td>\n",
       "    </tr>\n",
       "    <tr>\n",
       "      <th>3</th>\n",
       "      <td>7.40</td>\n",
       "      <td>117</td>\n",
       "      <td>100</td>\n",
       "      <td>4</td>\n",
       "      <td>466</td>\n",
       "      <td>97</td>\n",
       "      <td>55</td>\n",
       "      <td>14</td>\n",
       "      <td>1</td>\n",
       "      <td>1</td>\n",
       "      <td>0</td>\n",
       "      <td>1</td>\n",
       "    </tr>\n",
       "    <tr>\n",
       "      <th>4</th>\n",
       "      <td>4.15</td>\n",
       "      <td>141</td>\n",
       "      <td>64</td>\n",
       "      <td>3</td>\n",
       "      <td>340</td>\n",
       "      <td>128</td>\n",
       "      <td>38</td>\n",
       "      <td>13</td>\n",
       "      <td>1</td>\n",
       "      <td>0</td>\n",
       "      <td>0</td>\n",
       "      <td>0</td>\n",
       "    </tr>\n",
       "    <tr>\n",
       "      <th>...</th>\n",
       "      <td>...</td>\n",
       "      <td>...</td>\n",
       "      <td>...</td>\n",
       "      <td>...</td>\n",
       "      <td>...</td>\n",
       "      <td>...</td>\n",
       "      <td>...</td>\n",
       "      <td>...</td>\n",
       "      <td>...</td>\n",
       "      <td>...</td>\n",
       "      <td>...</td>\n",
       "      <td>...</td>\n",
       "    </tr>\n",
       "    <tr>\n",
       "      <th>395</th>\n",
       "      <td>12.57</td>\n",
       "      <td>138</td>\n",
       "      <td>108</td>\n",
       "      <td>17</td>\n",
       "      <td>203</td>\n",
       "      <td>128</td>\n",
       "      <td>33</td>\n",
       "      <td>14</td>\n",
       "      <td>1</td>\n",
       "      <td>1</td>\n",
       "      <td>1</td>\n",
       "      <td>0</td>\n",
       "    </tr>\n",
       "    <tr>\n",
       "      <th>396</th>\n",
       "      <td>6.14</td>\n",
       "      <td>139</td>\n",
       "      <td>23</td>\n",
       "      <td>3</td>\n",
       "      <td>37</td>\n",
       "      <td>120</td>\n",
       "      <td>55</td>\n",
       "      <td>11</td>\n",
       "      <td>0</td>\n",
       "      <td>1</td>\n",
       "      <td>0</td>\n",
       "      <td>1</td>\n",
       "    </tr>\n",
       "    <tr>\n",
       "      <th>397</th>\n",
       "      <td>7.41</td>\n",
       "      <td>162</td>\n",
       "      <td>26</td>\n",
       "      <td>12</td>\n",
       "      <td>368</td>\n",
       "      <td>159</td>\n",
       "      <td>40</td>\n",
       "      <td>18</td>\n",
       "      <td>1</td>\n",
       "      <td>1</td>\n",
       "      <td>0</td>\n",
       "      <td>1</td>\n",
       "    </tr>\n",
       "    <tr>\n",
       "      <th>398</th>\n",
       "      <td>5.94</td>\n",
       "      <td>100</td>\n",
       "      <td>79</td>\n",
       "      <td>7</td>\n",
       "      <td>284</td>\n",
       "      <td>95</td>\n",
       "      <td>50</td>\n",
       "      <td>12</td>\n",
       "      <td>1</td>\n",
       "      <td>1</td>\n",
       "      <td>0</td>\n",
       "      <td>0</td>\n",
       "    </tr>\n",
       "    <tr>\n",
       "      <th>399</th>\n",
       "      <td>9.71</td>\n",
       "      <td>134</td>\n",
       "      <td>37</td>\n",
       "      <td>0</td>\n",
       "      <td>27</td>\n",
       "      <td>120</td>\n",
       "      <td>49</td>\n",
       "      <td>16</td>\n",
       "      <td>1</td>\n",
       "      <td>1</td>\n",
       "      <td>1</td>\n",
       "      <td>0</td>\n",
       "    </tr>\n",
       "  </tbody>\n",
       "</table>\n",
       "<p>400 rows × 12 columns</p>\n",
       "</div>"
      ],
      "text/plain": [
       "     Sales  CompPrice  Income  Advertising  Population  Price  Age  Education  \\\n",
       "0     9.50        138      73           11         276    120   42         17   \n",
       "1    11.22        111      48           16         260     83   65         10   \n",
       "2    10.06        113      35           10         269     80   59         12   \n",
       "3     7.40        117     100            4         466     97   55         14   \n",
       "4     4.15        141      64            3         340    128   38         13   \n",
       "..     ...        ...     ...          ...         ...    ...  ...        ...   \n",
       "395  12.57        138     108           17         203    128   33         14   \n",
       "396   6.14        139      23            3          37    120   55         11   \n",
       "397   7.41        162      26           12         368    159   40         18   \n",
       "398   5.94        100      79            7         284     95   50         12   \n",
       "399   9.71        134      37            0          27    120   49         16   \n",
       "\n",
       "     Urban  US  ShelveLoc_Good  ShelveLoc_Medium  \n",
       "0        1   1               0                 0  \n",
       "1        1   1               1                 0  \n",
       "2        1   1               0                 1  \n",
       "3        1   1               0                 1  \n",
       "4        1   0               0                 0  \n",
       "..     ...  ..             ...               ...  \n",
       "395      1   1               1                 0  \n",
       "396      0   1               0                 1  \n",
       "397      1   1               0                 1  \n",
       "398      1   1               0                 0  \n",
       "399      1   1               1                 0  \n",
       "\n",
       "[400 rows x 12 columns]"
      ]
     },
     "execution_count": 193,
     "metadata": {},
     "output_type": "execute_result"
    }
   ],
   "source": [
    "df = df.join(shelveloc_cat)\n",
    "df"
   ]
  },
  {
   "cell_type": "code",
   "execution_count": 194,
   "id": "a116ecee",
   "metadata": {
    "scrolled": true
   },
   "outputs": [],
   "source": [
    "abbreviated_X = df[['Price', 'Urban', 'US']]\n",
    "X = df.drop('Sales',axis=1)\n",
    "y = df['Sales']"
   ]
  },
  {
   "cell_type": "code",
   "execution_count": 195,
   "id": "e87e9a9c",
   "metadata": {},
   "outputs": [
    {
     "data": {
      "text/html": [
       "<div>\n",
       "<style scoped>\n",
       "    .dataframe tbody tr th:only-of-type {\n",
       "        vertical-align: middle;\n",
       "    }\n",
       "\n",
       "    .dataframe tbody tr th {\n",
       "        vertical-align: top;\n",
       "    }\n",
       "\n",
       "    .dataframe thead th {\n",
       "        text-align: right;\n",
       "    }\n",
       "</style>\n",
       "<table border=\"1\" class=\"dataframe\">\n",
       "  <thead>\n",
       "    <tr style=\"text-align: right;\">\n",
       "      <th></th>\n",
       "      <th>Price</th>\n",
       "      <th>Urban</th>\n",
       "      <th>US</th>\n",
       "    </tr>\n",
       "  </thead>\n",
       "  <tbody>\n",
       "    <tr>\n",
       "      <th>0</th>\n",
       "      <td>120</td>\n",
       "      <td>1</td>\n",
       "      <td>1</td>\n",
       "    </tr>\n",
       "    <tr>\n",
       "      <th>1</th>\n",
       "      <td>83</td>\n",
       "      <td>1</td>\n",
       "      <td>1</td>\n",
       "    </tr>\n",
       "    <tr>\n",
       "      <th>2</th>\n",
       "      <td>80</td>\n",
       "      <td>1</td>\n",
       "      <td>1</td>\n",
       "    </tr>\n",
       "    <tr>\n",
       "      <th>3</th>\n",
       "      <td>97</td>\n",
       "      <td>1</td>\n",
       "      <td>1</td>\n",
       "    </tr>\n",
       "    <tr>\n",
       "      <th>4</th>\n",
       "      <td>128</td>\n",
       "      <td>1</td>\n",
       "      <td>0</td>\n",
       "    </tr>\n",
       "    <tr>\n",
       "      <th>...</th>\n",
       "      <td>...</td>\n",
       "      <td>...</td>\n",
       "      <td>...</td>\n",
       "    </tr>\n",
       "    <tr>\n",
       "      <th>395</th>\n",
       "      <td>128</td>\n",
       "      <td>1</td>\n",
       "      <td>1</td>\n",
       "    </tr>\n",
       "    <tr>\n",
       "      <th>396</th>\n",
       "      <td>120</td>\n",
       "      <td>0</td>\n",
       "      <td>1</td>\n",
       "    </tr>\n",
       "    <tr>\n",
       "      <th>397</th>\n",
       "      <td>159</td>\n",
       "      <td>1</td>\n",
       "      <td>1</td>\n",
       "    </tr>\n",
       "    <tr>\n",
       "      <th>398</th>\n",
       "      <td>95</td>\n",
       "      <td>1</td>\n",
       "      <td>1</td>\n",
       "    </tr>\n",
       "    <tr>\n",
       "      <th>399</th>\n",
       "      <td>120</td>\n",
       "      <td>1</td>\n",
       "      <td>1</td>\n",
       "    </tr>\n",
       "  </tbody>\n",
       "</table>\n",
       "<p>400 rows × 3 columns</p>\n",
       "</div>"
      ],
      "text/plain": [
       "     Price  Urban  US\n",
       "0      120      1   1\n",
       "1       83      1   1\n",
       "2       80      1   1\n",
       "3       97      1   1\n",
       "4      128      1   0\n",
       "..     ...    ...  ..\n",
       "395    128      1   1\n",
       "396    120      0   1\n",
       "397    159      1   1\n",
       "398     95      1   1\n",
       "399    120      1   1\n",
       "\n",
       "[400 rows x 3 columns]"
      ]
     },
     "execution_count": 195,
     "metadata": {},
     "output_type": "execute_result"
    }
   ],
   "source": [
    "abbreviated_X"
   ]
  },
  {
   "cell_type": "code",
   "execution_count": 196,
   "id": "397a8696",
   "metadata": {},
   "outputs": [
    {
     "data": {
      "text/plain": [
       "array([-0.05445885, -0.02191615,  1.2005727 ])"
      ]
     },
     "execution_count": 196,
     "metadata": {},
     "output_type": "execute_result"
    }
   ],
   "source": [
    "reg = linear_model.LinearRegression()\n",
    "reg.fit(abbreviated_X,y)\n",
    "reg.coef_"
   ]
  },
  {
   "cell_type": "code",
   "execution_count": 197,
   "id": "4fb006ed",
   "metadata": {},
   "outputs": [],
   "source": [
    "?sm.OLS"
   ]
  },
  {
   "cell_type": "code",
   "execution_count": 198,
   "id": "43741b4f",
   "metadata": {},
   "outputs": [],
   "source": [
    "abbreviated_X = sm.add_constant(abbreviated_X)"
   ]
  },
  {
   "cell_type": "code",
   "execution_count": 199,
   "id": "b8a00d67",
   "metadata": {
    "scrolled": true
   },
   "outputs": [],
   "source": [
    "#apparently - if you want p-value etc - SciKit Learn doesn't have it, so need to use statsmodels\n",
    "reg_sm = sm.OLS(y,abbreviated_X)"
   ]
  },
  {
   "cell_type": "code",
   "execution_count": 200,
   "id": "2a378491",
   "metadata": {},
   "outputs": [],
   "source": [
    "fii = reg_sm.fit()\n",
    "p_values = fii.summary2().tables[1]['P>|t|']"
   ]
  },
  {
   "cell_type": "code",
   "execution_count": 201,
   "id": "687ca0da",
   "metadata": {
    "scrolled": true
   },
   "outputs": [
    {
     "data": {
      "text/html": [
       "<table class=\"simpletable\">\n",
       "<tr>\n",
       "        <td>Model:</td>               <td>OLS</td>         <td>Adj. R-squared:</td>     <td>0.234</td>  \n",
       "</tr>\n",
       "<tr>\n",
       "  <td>Dependent Variable:</td>       <td>Sales</td>             <td>AIC:</td>         <td>1863.3121</td>\n",
       "</tr>\n",
       "<tr>\n",
       "         <td>Date:</td>        <td>2022-01-23 13:58</td>        <td>BIC:</td>         <td>1879.2779</td>\n",
       "</tr>\n",
       "<tr>\n",
       "   <td>No. Observations:</td>         <td>400</td>         <td>Log-Likelihood:</td>    <td>-927.66</td> \n",
       "</tr>\n",
       "<tr>\n",
       "       <td>Df Model:</td>              <td>3</td>           <td>F-statistic:</td>       <td>41.52</td>  \n",
       "</tr>\n",
       "<tr>\n",
       "     <td>Df Residuals:</td>           <td>396</td>       <td>Prob (F-statistic):</td> <td>2.39e-23</td> \n",
       "</tr>\n",
       "<tr>\n",
       "      <td>R-squared:</td>            <td>0.239</td>            <td>Scale:</td>         <td>6.1132</td>  \n",
       "</tr>\n",
       "</table>\n",
       "<table class=\"simpletable\">\n",
       "<tr>\n",
       "    <td></td>     <th>Coef.</th>  <th>Std.Err.</th>     <th>t</th>     <th>P>|t|</th> <th>[0.025</th>  <th>0.975]</th> \n",
       "</tr>\n",
       "<tr>\n",
       "  <th>const</th> <td>13.0435</td>  <td>0.6510</td>   <td>20.0357</td> <td>0.0000</td> <td>11.7636</td> <td>14.3233</td>\n",
       "</tr>\n",
       "<tr>\n",
       "  <th>Price</th> <td>-0.0545</td>  <td>0.0052</td>  <td>-10.3892</td> <td>0.0000</td> <td>-0.0648</td> <td>-0.0442</td>\n",
       "</tr>\n",
       "<tr>\n",
       "  <th>Urban</th> <td>-0.0219</td>  <td>0.2717</td>   <td>-0.0807</td> <td>0.9357</td> <td>-0.5560</td> <td>0.5121</td> \n",
       "</tr>\n",
       "<tr>\n",
       "  <th>US</th>    <td>1.2006</td>   <td>0.2590</td>   <td>4.6347</td>  <td>0.0000</td> <td>0.6913</td>  <td>1.7098</td> \n",
       "</tr>\n",
       "</table>\n",
       "<table class=\"simpletable\">\n",
       "<tr>\n",
       "     <td>Omnibus:</td>    <td>0.676</td>  <td>Durbin-Watson:</td>   <td>1.912</td>\n",
       "</tr>\n",
       "<tr>\n",
       "  <td>Prob(Omnibus):</td> <td>0.713</td> <td>Jarque-Bera (JB):</td> <td>0.758</td>\n",
       "</tr>\n",
       "<tr>\n",
       "       <td>Skew:</td>     <td>0.093</td>     <td>Prob(JB):</td>     <td>0.684</td>\n",
       "</tr>\n",
       "<tr>\n",
       "     <td>Kurtosis:</td>   <td>2.897</td>  <td>Condition No.:</td>    <td>628</td> \n",
       "</tr>\n",
       "</table>"
      ],
      "text/plain": [
       "<class 'statsmodels.iolib.summary2.Summary'>\n",
       "\"\"\"\n",
       "                 Results: Ordinary least squares\n",
       "==================================================================\n",
       "Model:              OLS              Adj. R-squared:     0.234    \n",
       "Dependent Variable: Sales            AIC:                1863.3121\n",
       "Date:               2022-01-23 13:58 BIC:                1879.2779\n",
       "No. Observations:   400              Log-Likelihood:     -927.66  \n",
       "Df Model:           3                F-statistic:        41.52    \n",
       "Df Residuals:       396              Prob (F-statistic): 2.39e-23 \n",
       "R-squared:          0.239            Scale:              6.1132   \n",
       "--------------------------------------------------------------------\n",
       "           Coef.    Std.Err.      t       P>|t|     [0.025    0.975]\n",
       "--------------------------------------------------------------------\n",
       "const     13.0435     0.6510    20.0357   0.0000   11.7636   14.3233\n",
       "Price     -0.0545     0.0052   -10.3892   0.0000   -0.0648   -0.0442\n",
       "Urban     -0.0219     0.2717    -0.0807   0.9357   -0.5560    0.5121\n",
       "US         1.2006     0.2590     4.6347   0.0000    0.6913    1.7098\n",
       "------------------------------------------------------------------\n",
       "Omnibus:               0.676        Durbin-Watson:           1.912\n",
       "Prob(Omnibus):         0.713        Jarque-Bera (JB):        0.758\n",
       "Skew:                  0.093        Prob(JB):                0.684\n",
       "Kurtosis:              2.897        Condition No.:           628  \n",
       "==================================================================\n",
       "\n",
       "\"\"\""
      ]
     },
     "execution_count": 201,
     "metadata": {},
     "output_type": "execute_result"
    }
   ],
   "source": [
    "fii.summary2()"
   ]
  },
  {
   "cell_type": "markdown",
   "id": "60c9b6ff",
   "metadata": {},
   "source": [
    "(b) Provide an interpretation of each coefficient in the model. Be\n",
    "careful—some of the variables in the model are qualitative!"
   ]
  },
  {
   "cell_type": "code",
   "execution_count": 202,
   "id": "ab76b0b0",
   "metadata": {},
   "outputs": [],
   "source": [
    "# Price really matters for every increase in price of 0.0545 there's a dollar decrease in sales\n",
    "\n",
    "#Urban  does not meet the null hypothesis\n",
    "\n",
    "#US also matter ($1.20 added when in US); they'll add except for Urban quite a bit to the sales P values are very low\n",
    "#indicating that the null hypothesis (beta=0) is not likely the case."
   ]
  },
  {
   "cell_type": "markdown",
   "id": "47b6e292",
   "metadata": {},
   "source": [
    "(c) Write out the model in equation form, being careful to handle\n",
    "the qualitative variables properly."
   ]
  },
  {
   "cell_type": "code",
   "execution_count": 203,
   "id": "7833acc0",
   "metadata": {},
   "outputs": [],
   "source": [
    "#Sales = 13.0435 + -0.0545 * Price + -0.0219 * Urban + 1.2006 * US"
   ]
  },
  {
   "cell_type": "markdown",
   "id": "a85c5615",
   "metadata": {},
   "source": [
    "(d) For which of the predictors can you reject the null hypothesis\n",
    "H0 : βj = 0?"
   ]
  },
  {
   "cell_type": "code",
   "execution_count": 204,
   "id": "972a95c6",
   "metadata": {},
   "outputs": [
    {
     "data": {
      "text/plain": [
       "const    3.626602e-62\n",
       "Price    1.609917e-22\n",
       "Urban    9.357389e-01\n",
       "US       4.860245e-06\n",
       "Name: P>|t|, dtype: float64"
      ]
     },
     "execution_count": 204,
     "metadata": {},
     "output_type": "execute_result"
    }
   ],
   "source": [
    "p_values\n",
    "#price and US are big ones, urban should be thrown out"
   ]
  },
  {
   "cell_type": "markdown",
   "id": "128e0d66",
   "metadata": {},
   "source": [
    "(e) On the basis of your response to the previous question, fit a\n",
    "smaller model that only uses the predictors for which there is\n",
    "evidence of association with the outcome."
   ]
  },
  {
   "cell_type": "code",
   "execution_count": 205,
   "id": "4f0d7197",
   "metadata": {},
   "outputs": [],
   "source": [
    "abbreviated_X2 = df[['Price', 'US']].copy()\n",
    "abbreviated_X2 = sm.add_constant(abbreviated_X2)\n",
    "reg_sm2 = sm.OLS(y, abbreviated_X2)\n",
    "fii2 = reg_sm2.fit()\n",
    "p_values2 = fii2.summary2().tables[1]['P>|t|']"
   ]
  },
  {
   "cell_type": "code",
   "execution_count": 206,
   "id": "da4be14d",
   "metadata": {},
   "outputs": [
    {
     "data": {
      "text/html": [
       "<table class=\"simpletable\">\n",
       "<tr>\n",
       "        <td>Model:</td>               <td>OLS</td>         <td>Adj. R-squared:</td>     <td>0.235</td>  \n",
       "</tr>\n",
       "<tr>\n",
       "  <td>Dependent Variable:</td>       <td>Sales</td>             <td>AIC:</td>         <td>1861.3186</td>\n",
       "</tr>\n",
       "<tr>\n",
       "         <td>Date:</td>        <td>2022-01-23 13:58</td>        <td>BIC:</td>         <td>1873.2930</td>\n",
       "</tr>\n",
       "<tr>\n",
       "   <td>No. Observations:</td>         <td>400</td>         <td>Log-Likelihood:</td>    <td>-927.66</td> \n",
       "</tr>\n",
       "<tr>\n",
       "       <td>Df Model:</td>              <td>2</td>           <td>F-statistic:</td>       <td>62.43</td>  \n",
       "</tr>\n",
       "<tr>\n",
       "     <td>Df Residuals:</td>           <td>397</td>       <td>Prob (F-statistic):</td> <td>2.66e-24</td> \n",
       "</tr>\n",
       "<tr>\n",
       "      <td>R-squared:</td>            <td>0.239</td>            <td>Scale:</td>         <td>6.0979</td>  \n",
       "</tr>\n",
       "</table>\n",
       "<table class=\"simpletable\">\n",
       "<tr>\n",
       "    <td></td>     <th>Coef.</th>  <th>Std.Err.</th>     <th>t</th>     <th>P>|t|</th> <th>[0.025</th>  <th>0.975]</th> \n",
       "</tr>\n",
       "<tr>\n",
       "  <th>const</th> <td>13.0308</td>  <td>0.6310</td>   <td>20.6518</td> <td>0.0000</td> <td>11.7903</td> <td>14.2713</td>\n",
       "</tr>\n",
       "<tr>\n",
       "  <th>Price</th> <td>-0.0545</td>  <td>0.0052</td>  <td>-10.4161</td> <td>0.0000</td> <td>-0.0648</td> <td>-0.0442</td>\n",
       "</tr>\n",
       "<tr>\n",
       "  <th>US</th>    <td>1.1996</td>   <td>0.2585</td>   <td>4.6415</td>  <td>0.0000</td> <td>0.6915</td>  <td>1.7078</td> \n",
       "</tr>\n",
       "</table>\n",
       "<table class=\"simpletable\">\n",
       "<tr>\n",
       "     <td>Omnibus:</td>    <td>0.666</td>  <td>Durbin-Watson:</td>   <td>1.912</td>\n",
       "</tr>\n",
       "<tr>\n",
       "  <td>Prob(Omnibus):</td> <td>0.717</td> <td>Jarque-Bera (JB):</td> <td>0.749</td>\n",
       "</tr>\n",
       "<tr>\n",
       "       <td>Skew:</td>     <td>0.092</td>     <td>Prob(JB):</td>     <td>0.688</td>\n",
       "</tr>\n",
       "<tr>\n",
       "     <td>Kurtosis:</td>   <td>2.895</td>  <td>Condition No.:</td>    <td>607</td> \n",
       "</tr>\n",
       "</table>"
      ],
      "text/plain": [
       "<class 'statsmodels.iolib.summary2.Summary'>\n",
       "\"\"\"\n",
       "                 Results: Ordinary least squares\n",
       "==================================================================\n",
       "Model:              OLS              Adj. R-squared:     0.235    \n",
       "Dependent Variable: Sales            AIC:                1861.3186\n",
       "Date:               2022-01-23 13:58 BIC:                1873.2930\n",
       "No. Observations:   400              Log-Likelihood:     -927.66  \n",
       "Df Model:           2                F-statistic:        62.43    \n",
       "Df Residuals:       397              Prob (F-statistic): 2.66e-24 \n",
       "R-squared:          0.239            Scale:              6.0979   \n",
       "--------------------------------------------------------------------\n",
       "           Coef.    Std.Err.      t       P>|t|     [0.025    0.975]\n",
       "--------------------------------------------------------------------\n",
       "const     13.0308     0.6310    20.6518   0.0000   11.7903   14.2713\n",
       "Price     -0.0545     0.0052   -10.4161   0.0000   -0.0648   -0.0442\n",
       "US         1.1996     0.2585     4.6415   0.0000    0.6915    1.7078\n",
       "------------------------------------------------------------------\n",
       "Omnibus:               0.666        Durbin-Watson:           1.912\n",
       "Prob(Omnibus):         0.717        Jarque-Bera (JB):        0.749\n",
       "Skew:                  0.092        Prob(JB):                0.688\n",
       "Kurtosis:              2.895        Condition No.:           607  \n",
       "==================================================================\n",
       "\n",
       "\"\"\""
      ]
     },
     "execution_count": 206,
     "metadata": {},
     "output_type": "execute_result"
    }
   ],
   "source": [
    "p_values2\n",
    "fii2.summary2()"
   ]
  },
  {
   "cell_type": "markdown",
   "id": "6efc1f95",
   "metadata": {},
   "source": [
    "(f) How well do the models in (a) and (e) fit the data?"
   ]
  },
  {
   "cell_type": "code",
   "execution_count": 207,
   "id": "74213904",
   "metadata": {
    "scrolled": true
   },
   "outputs": [
    {
     "data": {
      "text/plain": [
       "'0.239'"
      ]
     },
     "execution_count": 207,
     "metadata": {},
     "output_type": "execute_result"
    }
   ],
   "source": [
    "fii.summary2().tables[0].iloc[6,1]"
   ]
  },
  {
   "cell_type": "code",
   "execution_count": 208,
   "id": "f3fe6872",
   "metadata": {
    "scrolled": true
   },
   "outputs": [
    {
     "data": {
      "text/plain": [
       "'0.239'"
      ]
     },
     "execution_count": 208,
     "metadata": {},
     "output_type": "execute_result"
    }
   ],
   "source": [
    "fii2.summary2().tables[0].iloc[6,1]"
   ]
  },
  {
   "cell_type": "code",
   "execution_count": 227,
   "id": "fad4c6ed",
   "metadata": {
    "scrolled": true
   },
   "outputs": [
    {
     "name": "stdout",
     "output_type": "stream",
     "text": [
      "6.113218867193112\n",
      "6.097920558687301\n"
     ]
    }
   ],
   "source": [
    "print(fii.mse_resid)\n",
    "print(fii2.mse_resid)"
   ]
  },
  {
   "cell_type": "markdown",
   "id": "6f0f94ed",
   "metadata": {},
   "source": [
    "(g) Using the model from (e), obtain 95 % confidence intervals for\n",
    "the coefficient(s)."
   ]
  },
  {
   "cell_type": "code",
   "execution_count": 228,
   "id": "e6d63677",
   "metadata": {},
   "outputs": [
    {
     "name": "stdout",
     "output_type": "stream",
     "text": [
      "               0          1\n",
      "const  11.763597  14.323341\n",
      "Price  -0.064764  -0.044154\n",
      "Urban  -0.555973   0.512141\n",
      "US      0.691304   1.709841\n",
      "              0          1\n",
      "const  11.79032  14.271265\n",
      "Price  -0.06476  -0.044195\n",
      "US      0.69152   1.707766\n"
     ]
    }
   ],
   "source": [
    "print(fii.conf_int(alpha=0.05))\n",
    "print(fii2.conf_int(alpha=0.05))"
   ]
  },
  {
   "cell_type": "markdown",
   "id": "be21050f",
   "metadata": {},
   "source": [
    "(h) Is there evidence of outliers or high leverage observations in the\n",
    "model from (e)?"
   ]
  },
  {
   "cell_type": "code",
   "execution_count": 231,
   "id": "ef7a57cb",
   "metadata": {},
   "outputs": [],
   "source": [
    "#https://songhuiming.github.io/pages/2016/11/27/linear-regression-in-python-outliers-leverage-detect/"
   ]
  },
  {
   "cell_type": "code",
   "execution_count": 232,
   "id": "557944e3",
   "metadata": {},
   "outputs": [
    {
     "data": {
      "image/png": "[encoded data removed]",
      "text/plain": [
       "<Figure size 864x576 with 1 Axes>"
      ]
     },
     "metadata": {
      "needs_background": "light"
     },
     "output_type": "display_data"
    }
   ],
   "source": [
    "fig, ax = plt.subplots(figsize=(12,8))\n",
    "fig = sm.graphics.influence_plot(fii2, ax=ax, criterion=\"cooks\")"
   ]
  },
  {
   "cell_type": "code",
   "execution_count": 233,
   "id": "db2165d9",
   "metadata": {},
   "outputs": [],
   "source": [
    "#there are some high leverage poitns, 367, 165/174;  a few others"
   ]
  },
  {
   "cell_type": "code",
   "execution_count": 234,
   "id": "24d30b46",
   "metadata": {},
   "outputs": [
    {
     "data": {
      "image/png": "[encoded data removed]",
      "text/plain": [
       "<Figure size 432x288 with 1 Axes>"
      ]
     },
     "execution_count": 234,
     "metadata": {},
     "output_type": "execute_result"
    },
    {
     "data": {
      "image/png": "[encoded data removed]",
      "text/plain": [
       "<Figure size 432x288 with 1 Axes>"
      ]
     },
     "metadata": {
      "needs_background": "light"
     },
     "output_type": "display_data"
    }
   ],
   "source": [
    "#outliers\n",
    "sm.graphics.plot_leverage_resid2(fii2)"
   ]
  }
 ],
 "metadata": {
  "kernelspec": {
   "display_name": "Data Science python kernel",
   "language": "python",
   "name": "datascience"
  },
  "language_info": {
   "codemirror_mode": {
    "name": "ipython",
    "version": 3
   },
   "file_extension": ".py",
   "mimetype": "text/x-python",
   "name": "python",
   "nbconvert_exporter": "python",
   "pygments_lexer": "ipython3",
   "version": "3.9.7"
  }
 },
 "nbformat": 4,
 "nbformat_minor": 5
}
