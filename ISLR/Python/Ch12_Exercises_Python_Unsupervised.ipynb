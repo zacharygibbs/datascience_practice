{
 "cells": [
  {
   "cell_type": "code",
   "execution_count": 2,
   "id": "b7309b68",
   "metadata": {},
   "outputs": [],
   "source": [
    "import numpy as np\n",
    "import scipy.stats\n",
    "import pandas as pd\n",
    "import matplotlib.pyplot as plt\n",
    "from sklearn import decomposition\n",
    "from sklearn import cluster\n",
    "from sklearn import preprocessing\n",
    "import scipy.cluster.hierarchy"
   ]
  },
  {
   "cell_type": "markdown",
   "id": "256e6f76",
   "metadata": {},
   "source": [
    "10. In this problem, you will generate simulated data, and then perform\n",
    "PCA and K-means clustering on the data."
   ]
  },
  {
   "cell_type": "markdown",
   "id": "08510483",
   "metadata": {},
   "source": [
    "(a) Generate a simulated data set with 20 observations in each of\n",
    "three classes (i.e. 60 observations total), and 50 variables.\n",
    "Hint: There are a number of functions in R that you can use to\n",
    "generate data. One example is the rnorm() function; runif() is\n",
    "another option. Be sure to add a mean shift to the observations\n",
    "in each class so that there are three distinct classes."
   ]
  },
  {
   "cell_type": "code",
   "execution_count": 75,
   "id": "b844d68c",
   "metadata": {},
   "outputs": [],
   "source": [
    "means = (5, -2, 15)\n",
    "scale = (3, 3, 3)\n",
    "df = pd.DataFrame([])\n",
    "for i in range(len(means)):\n",
    "    df = pd.concat([df, pd.DataFrame(scipy.stats.uniform.rvs(np.zeros((20,50)))*scale[i]*(1+np.sin(0.88*i)) + (-1+np.sin(0.3*i))**i * means[i])])\n",
    "\n",
    "for i,col in enumerate(df.columns):\n",
    "    df.iloc[:, i] = df.iloc[:,i] * np.cos(.6*i) - np.cos(0.7*i)"
   ]
  },
  {
   "cell_type": "code",
   "execution_count": 76,
   "id": "e2708e0e",
   "metadata": {},
   "outputs": [],
   "source": [
    "#df"
   ]
  },
  {
   "cell_type": "markdown",
   "id": "d1682853",
   "metadata": {},
   "source": [
    "(b) Perform PCA on the 60 observations and plot the first two principal component score vectors. Use a different color to indicate\n",
    "the observations in each of the three classes. If the three classes\n",
    "appear separated in this plot, then continue on to part (c). If\n",
    "not, then return to part (a) and modify the simulation so that\n",
    "there is greater separation between the three classes. Do not\n",
    "continue to part (c) until the three classes show at least some\n",
    "separation in the first two principal component score vectors."
   ]
  },
  {
   "cell_type": "code",
   "execution_count": 77,
   "id": "2e67d083",
   "metadata": {},
   "outputs": [
    {
     "name": "stdout",
     "output_type": "stream",
     "text": [
      "[0.37537775 0.05970775]\n",
      "[41.65107744 16.61144175]\n"
     ]
    }
   ],
   "source": [
    "pca = decomposition.PCA(n_components=2)\n",
    "pca.fit(df)\n",
    "print(pca.explained_variance_ratio_)\n",
    "print(pca.singular_values_)"
   ]
  },
  {
   "cell_type": "code",
   "execution_count": 78,
   "id": "e7c5fdaa",
   "metadata": {},
   "outputs": [],
   "source": [
    "pcs = pca.transform(df)"
   ]
  },
  {
   "cell_type": "code",
   "execution_count": 79,
   "id": "699cde88",
   "metadata": {},
   "outputs": [
    {
     "data": {
      "text/plain": [
       "[<matplotlib.lines.Line2D at 0x7feeeae0b9d0>]"
      ]
     },
     "execution_count": 79,
     "metadata": {},
     "output_type": "execute_result"
    },
    {
     "data": {
      "image/png": "[encoded data removed]",
      "text/plain": [
       "<Figure size 432x288 with 1 Axes>"
      ]
     },
     "metadata": {
      "needs_background": "light"
     },
     "output_type": "display_data"
    }
   ],
   "source": [
    "fig, ax = plt.subplots(1, 1)\n",
    "ax.plot(pcs[:19,0], pcs[:19,1], 'ro')\n",
    "ax.plot(pcs[20:39,0], pcs[20:39,1], 'bo')\n",
    "ax.plot(pcs[40:59,0], pcs[40:59,1], 'go')"
   ]
  },
  {
   "cell_type": "markdown",
   "id": "0b3082dc",
   "metadata": {},
   "source": [
    "(c) Perform K-means clustering of the observations with K = 3.\n",
    "How well do the clusters that you obtained in K-means clustering compare to the true class labels?\n",
    "Hint: You can use the table() function in R to compare the true\n",
    "class labels to the class labels obtained by clustering. Be careful\n",
    "how you interpret the results: K-means clustering will arbitrarily\n",
    "number the clusters, so you cannot simply check whether the true\n",
    "class labels and clustering labels are the same."
   ]
  },
  {
   "cell_type": "code",
   "execution_count": 137,
   "id": "b12fb846",
   "metadata": {},
   "outputs": [
    {
     "name": "stdout",
     "output_type": "stream",
     "text": [
      "[0 0 0 0 0 0 0 0 0 0 0 0 0 0 0 0 0 0 0 0 1 1 1 1 1 1 1 1 1 1 1 1 1 1 1 1 1\n",
      " 1 1 1 2 2 0 2 0 0 0 2 2 2 2 2 2 2 2 2 0 2 2 0]\n"
     ]
    },
    {
     "data": {
      "text/plain": [
       "Text(0.5, 1.0, 'kmeans=3')"
      ]
     },
     "execution_count": 137,
     "metadata": {},
     "output_type": "execute_result"
    },
    {
     "data": {
      "image/png": "[encoded data removed]",
      "text/plain": [
       "<Figure size 1080x360 with 2 Axes>"
      ]
     },
     "metadata": {
      "needs_background": "light"
     },
     "output_type": "display_data"
    }
   ],
   "source": [
    "kmeans = cluster.KMeans(n_clusters=3, random_state=0).fit(df)\n",
    "print(kmeans.labels_)\n",
    "#print(kmeans.predict([[0, 0], [12, 3]]))\n",
    "#print(kmeans.cluster_centers_)\n",
    "#kmeans.predict(df)\n",
    "res = [pd.DataFrame([]) for i in range(3)]\n",
    "for index, item in enumerate(kmeans.labels_):\n",
    "    pcee = pca.transform([df.iloc[index]])\n",
    "    res[item] = pd.concat([res[item], pd.DataFrame(pcee)])\n",
    "res = [i.reset_index(drop=True) for i in res]\n",
    "#print(res)\n",
    "fig, ax = plt.subplots(1, 2, figsize=(15,5))\n",
    "ax[0].plot(pcs[:19,0], pcs[:19,1], 'ro')\n",
    "ax[0].plot(pcs[20:39,0], pcs[20:39,1], 'bo')\n",
    "ax[0].plot(pcs[40:59,0], pcs[40:59,1], 'go')\n",
    "ax[0].set_title('raw data')\n",
    "colors = ('ro', 'bo', 'go')\n",
    "for i in range(3):\n",
    "    ax[1].plot(res[i].iloc[:,0], res[i].iloc[:,1], colors[i])\n",
    "ax[1].set_title('kmeans=3')"
   ]
  },
  {
   "cell_type": "markdown",
   "id": "801baf22",
   "metadata": {},
   "source": [
    "(d) Perform K-means clustering with K = 2. Describe your results."
   ]
  },
  {
   "cell_type": "code",
   "execution_count": 136,
   "id": "4ea6b50c",
   "metadata": {},
   "outputs": [
    {
     "name": "stdout",
     "output_type": "stream",
     "text": [
      "[0 0 0 0 0 0 0 0 0 0 0 0 0 0 0 0 0 0 0 0 1 1 1 1 1 1 1 1 1 1 1 1 1 1 1 1 1\n",
      " 1 1 1 0 1 0 0 0 0 0 0 0 0 0 0 0 0 1 0 0 0 0 0]\n"
     ]
    },
    {
     "data": {
      "text/plain": [
       "Text(0.5, 1.0, 'kmeans=2')"
      ]
     },
     "execution_count": 136,
     "metadata": {},
     "output_type": "execute_result"
    },
    {
     "data": {
      "image/png": "[encoded data removed]",
      "text/plain": [
       "<Figure size 1080x360 with 2 Axes>"
      ]
     },
     "metadata": {
      "needs_background": "light"
     },
     "output_type": "display_data"
    }
   ],
   "source": [
    "kmeans = cluster.KMeans(n_clusters=2, random_state=0).fit(df)\n",
    "print(kmeans.labels_)\n",
    "#print(kmeans.predict([[0, 0], [12, 3]]))\n",
    "#print(kmeans.cluster_centers_)\n",
    "#kmeans.predict(df)\n",
    "res = [pd.DataFrame([]) for i in range(2)]\n",
    "for index, item in enumerate(kmeans.labels_):\n",
    "    pcee = pca.transform([df.iloc[index]])\n",
    "    res[item] = pd.concat([res[item], pd.DataFrame(pcee)])\n",
    "res = [i.reset_index(drop=True) for i in res]\n",
    "#print(res)\n",
    "fig, ax = plt.subplots(1, 2, figsize=(15,5))\n",
    "ax[0].plot(pcs[:19,0], pcs[:19,1], 'ro')\n",
    "ax[0].plot(pcs[20:39,0], pcs[20:39,1], 'bo')\n",
    "ax[0].plot(pcs[40:59,0], pcs[40:59,1], 'go')\n",
    "ax[0].set_title('raw data')\n",
    "colors = ('ro', 'bo', 'go')\n",
    "for i in range(2):\n",
    "    ax[1].plot(res[i].iloc[:,0], res[i].iloc[:,1], colors[i])\n",
    "ax[1].set_title('kmeans=2')"
   ]
  },
  {
   "cell_type": "code",
   "execution_count": null,
   "id": "65bc1b42",
   "metadata": {},
   "outputs": [],
   "source": [
    "#results appear to have red and green groups mostly merged, a couple of green poitns hve been absorbed by blue."
   ]
  },
  {
   "cell_type": "markdown",
   "id": "e87e926c",
   "metadata": {},
   "source": [
    "(e) Now perform K-means clustering with K = 4, and describe your\n",
    "results."
   ]
  },
  {
   "cell_type": "code",
   "execution_count": 138,
   "id": "5dab0558",
   "metadata": {},
   "outputs": [
    {
     "name": "stdout",
     "output_type": "stream",
     "text": [
      "[3 3 3 3 3 3 3 3 3 3 3 3 3 3 3 3 3 3 3 3 1 1 1 1 1 1 1 1 0 1 1 1 1 1 1 1 1\n",
      " 1 1 1 0 0 2 2 2 3 3 0 2 2 2 2 2 3 2 3 3 2 2 2]\n"
     ]
    },
    {
     "data": {
      "text/plain": [
       "Text(0.5, 1.0, 'kmeans=4')"
      ]
     },
     "execution_count": 138,
     "metadata": {},
     "output_type": "execute_result"
    },
    {
     "data": {
      "image/png": "[encoded data removed]",
      "text/plain": [
       "<Figure size 1080x360 with 2 Axes>"
      ]
     },
     "metadata": {
      "needs_background": "light"
     },
     "output_type": "display_data"
    }
   ],
   "source": [
    "kmeans = cluster.KMeans(n_clusters=4, random_state=0).fit(df)\n",
    "print(kmeans.labels_)\n",
    "#print(kmeans.predict([[0, 0], [12, 3]]))\n",
    "#print(kmeans.cluster_centers_)\n",
    "#kmeans.predict(df)\n",
    "res = [pd.DataFrame([]) for i in range(4)]\n",
    "for index, item in enumerate(kmeans.labels_):\n",
    "    pcee = pca.transform([df.iloc[index]])\n",
    "    res[item] = pd.concat([res[item], pd.DataFrame(pcee)])\n",
    "res = [i.reset_index(drop=True) for i in res]\n",
    "#print(res)\n",
    "fig, ax = plt.subplots(1, 2, figsize=(15,5))\n",
    "ax[0].plot(pcs[:19,0], pcs[:19,1], 'ro')\n",
    "ax[0].plot(pcs[20:39,0], pcs[20:39,1], 'bo')\n",
    "ax[0].plot(pcs[40:59,0], pcs[40:59,1], 'go')\n",
    "ax[0].set_title('raw data')\n",
    "colors = ('ro', 'bo', 'go', 'mo')\n",
    "for i in range(4):\n",
    "    ax[1].plot(res[i].iloc[:,0], res[i].iloc[:,1], colors[i])\n",
    "ax[1].set_title('kmeans=4')"
   ]
  },
  {
   "cell_type": "code",
   "execution_count": null,
   "id": "b326bf3e",
   "metadata": {},
   "outputs": [],
   "source": [
    "#now it's created an additional cluster in between w/ only a fwe points"
   ]
  },
  {
   "cell_type": "markdown",
   "id": "a9a72161",
   "metadata": {},
   "source": [
    "(f) Now perform K-means clustering with K = 3 on the first two\n",
    "principal component score vectors, rather than on the raw data.\n",
    "That is, perform K-means clustering on the 60 × 2 matrix of\n",
    "which the first column is the first principal component score\n",
    "vector, and the second column is the second principal component\n",
    "score vector. Comment on the results."
   ]
  },
  {
   "cell_type": "code",
   "execution_count": 133,
   "id": "5da51832",
   "metadata": {},
   "outputs": [
    {
     "data": {
      "text/html": [
       "<div>\n",
       "<style scoped>\n",
       "    .dataframe tbody tr th:only-of-type {\n",
       "        vertical-align: middle;\n",
       "    }\n",
       "\n",
       "    .dataframe tbody tr th {\n",
       "        vertical-align: top;\n",
       "    }\n",
       "\n",
       "    .dataframe thead th {\n",
       "        text-align: right;\n",
       "    }\n",
       "</style>\n",
       "<table border=\"1\" class=\"dataframe\">\n",
       "  <thead>\n",
       "    <tr style=\"text-align: right;\">\n",
       "      <th></th>\n",
       "      <th>0</th>\n",
       "    </tr>\n",
       "  </thead>\n",
       "  <tbody>\n",
       "    <tr>\n",
       "      <th>0</th>\n",
       "      <td>-2.351068</td>\n",
       "    </tr>\n",
       "    <tr>\n",
       "      <th>1</th>\n",
       "      <td>7.186901</td>\n",
       "    </tr>\n",
       "  </tbody>\n",
       "</table>\n",
       "</div>"
      ],
      "text/plain": [
       "          0\n",
       "0 -2.351068\n",
       "1  7.186901"
      ]
     },
     "execution_count": 133,
     "metadata": {},
     "output_type": "execute_result"
    }
   ],
   "source": [
    "pd.DataFrame(pcee)"
   ]
  },
  {
   "cell_type": "code",
   "execution_count": 139,
   "id": "9db6185b",
   "metadata": {
    "scrolled": true
   },
   "outputs": [
    {
     "name": "stdout",
     "output_type": "stream",
     "text": [
      "[1 1 1 1 1 1 1 1 1 1 1 1 1 1 1 1 1 1 1 1 0 0 0 0 0 0 0 0 0 0 0 0 0 0 0 0 0\n",
      " 0 0 0 1 2 2 2 2 1 1 1 2 2 2 2 2 1 0 1 1 2 2 2]\n"
     ]
    },
    {
     "data": {
      "text/plain": [
       "Text(0.5, 1.0, 'kmeans_3onPCA')"
      ]
     },
     "execution_count": 139,
     "metadata": {},
     "output_type": "execute_result"
    },
    {
     "data": {
      "image/png": "[encoded data removed]",
      "text/plain": [
       "<Figure size 1080x360 with 2 Axes>"
      ]
     },
     "metadata": {
      "needs_background": "light"
     },
     "output_type": "display_data"
    }
   ],
   "source": [
    "kmeans = cluster.KMeans(n_clusters=3, random_state=0).fit(pcs)\n",
    "print(kmeans.labels_)\n",
    "#print(kmeans.predict([[0, 0], [12, 3]]))\n",
    "#print(kmeans.cluster_centers_)\n",
    "#kmeans.predict(df)\n",
    "res = [pd.DataFrame([]) for i in range(3)]\n",
    "for index, item in enumerate(kmeans.labels_):\n",
    "    pcee = pcs[index,:]#pca.transform([df.iloc[index]])\n",
    "    res[item] = pd.concat([res[item], pd.DataFrame([pcee])])\n",
    "res = [i.reset_index(drop=True) for i in res]\n",
    "#print(res)\n",
    "fig, ax = plt.subplots(1, 2, figsize=(15,5))\n",
    "ax[0].plot(pcs[:19,0], pcs[:19,1], 'ro')\n",
    "ax[0].plot(pcs[20:39,0], pcs[20:39,1], 'bo')\n",
    "ax[0].plot(pcs[40:59,0], pcs[40:59,1], 'go')\n",
    "ax[0].set_title('raw data')\n",
    "colors = ('ro', 'bo', 'go', 'mo')\n",
    "for i in range(3):\n",
    "    ax[1].plot(res[i].iloc[:,0], res[i].iloc[:,1], colors[i])\n",
    "ax[1].set_title('kmeans_3onPCA')"
   ]
  },
  {
   "cell_type": "code",
   "execution_count": null,
   "id": "53b00022",
   "metadata": {},
   "outputs": [],
   "source": [
    "#results were close, but not exactly the same"
   ]
  },
  {
   "cell_type": "markdown",
   "id": "bc34e5da",
   "metadata": {},
   "source": [
    "(g) Using the scale() function, perform K-means clustering with\n",
    "K = 3 on the data after scaling each variable to have standard\n",
    "deviation one. How do these results compare to those obtained\n",
    "in (b)? Explain."
   ]
  },
  {
   "cell_type": "code",
   "execution_count": 143,
   "id": "c834697b",
   "metadata": {},
   "outputs": [
    {
     "name": "stdout",
     "output_type": "stream",
     "text": [
      "[1 1 1 1 1 1 1 1 1 1 1 1 1 1 1 1 1 1 1 1 2 2 2 2 2 2 2 2 2 2 2 2 2 2 2 2 2\n",
      " 2 2 2 1 1 0 0 0 1 1 1 1 1 1 0 1 1 1 1 1 1 1 0]\n"
     ]
    },
    {
     "data": {
      "text/plain": [
       "Text(0.5, 1.0, 'kmeans=3, standardized')"
      ]
     },
     "execution_count": 143,
     "metadata": {},
     "output_type": "execute_result"
    },
    {
     "data": {
      "image/png": "[encoded data removed]",
      "text/plain": [
       "<Figure size 1080x360 with 2 Axes>"
      ]
     },
     "metadata": {
      "needs_background": "light"
     },
     "output_type": "display_data"
    }
   ],
   "source": [
    "sc = preprocessing.StandardScaler()\n",
    "X = sc.fit_transform(df)\n",
    "kmeans = cluster.KMeans(n_clusters=3, random_state=0).fit(X)\n",
    "print(kmeans.labels_)\n",
    "#print(kmeans.predict([[0, 0], [12, 3]]))\n",
    "#print(kmeans.cluster_centers_)\n",
    "#kmeans.predict(df)\n",
    "res = [pd.DataFrame([]) for i in range(3)]\n",
    "for index, item in enumerate(kmeans.labels_):\n",
    "    pcee = pca.transform([df.iloc[index]])\n",
    "    res[item] = pd.concat([res[item], pd.DataFrame(pcee)])\n",
    "res = [i.reset_index(drop=True) for i in res]\n",
    "#print(res)\n",
    "fig, ax = plt.subplots(1, 2, figsize=(15,5))\n",
    "ax[0].plot(pcs[:19,0], pcs[:19,1], 'ro')\n",
    "ax[0].plot(pcs[20:39,0], pcs[20:39,1], 'bo')\n",
    "ax[0].plot(pcs[40:59,0], pcs[40:59,1], 'go')\n",
    "ax[0].set_title('raw data')\n",
    "colors = ('ro', 'bo', 'go')\n",
    "for i in range(3):\n",
    "    ax[1].plot(res[i].iloc[:,0], res[i].iloc[:,1], colors[i])\n",
    "ax[1].set_title('kmeans=3, standardized')"
   ]
  },
  {
   "cell_type": "markdown",
   "id": "75028d99",
   "metadata": {},
   "source": [
    "13. On the book website, www.statlearning.com, there is a gene expression data set (Ch12Ex13.csv) that consists of 40 tissue samples with\n",
    "measurements on 1,000 genes. The first 20 samples are from healthy\n",
    "patients, while the second 20 are from a diseased group."
   ]
  },
  {
   "cell_type": "code",
   "execution_count": 3,
   "id": "7cfde211",
   "metadata": {},
   "outputs": [],
   "source": [
    "df = pd.read_csv('https://www.statlearning.com/s/Ch12Ex13.csv', header=None)#'/home/zacharygibbs/documents/datascience/ISLR/book_content/data/Ch12Ex13.csv', header=None)"
   ]
  },
  {
   "cell_type": "markdown",
   "id": "7a804bff",
   "metadata": {},
   "source": [
    "(a) Load in the data using read.csv(). You will need to select\n",
    "header = F."
   ]
  },
  {
   "cell_type": "code",
   "execution_count": 151,
   "id": "a30f1357",
   "metadata": {},
   "outputs": [
    {
     "data": {
      "text/html": [
       "<div>\n",
       "<style scoped>\n",
       "    .dataframe tbody tr th:only-of-type {\n",
       "        vertical-align: middle;\n",
       "    }\n",
       "\n",
       "    .dataframe tbody tr th {\n",
       "        vertical-align: top;\n",
       "    }\n",
       "\n",
       "    .dataframe thead th {\n",
       "        text-align: right;\n",
       "    }\n",
       "</style>\n",
       "<table border=\"1\" class=\"dataframe\">\n",
       "  <thead>\n",
       "    <tr style=\"text-align: right;\">\n",
       "      <th></th>\n",
       "      <th>0</th>\n",
       "      <th>1</th>\n",
       "      <th>2</th>\n",
       "      <th>3</th>\n",
       "      <th>4</th>\n",
       "      <th>5</th>\n",
       "      <th>6</th>\n",
       "      <th>7</th>\n",
       "      <th>8</th>\n",
       "      <th>9</th>\n",
       "      <th>...</th>\n",
       "      <th>30</th>\n",
       "      <th>31</th>\n",
       "      <th>32</th>\n",
       "      <th>33</th>\n",
       "      <th>34</th>\n",
       "      <th>35</th>\n",
       "      <th>36</th>\n",
       "      <th>37</th>\n",
       "      <th>38</th>\n",
       "      <th>39</th>\n",
       "    </tr>\n",
       "  </thead>\n",
       "  <tbody>\n",
       "    <tr>\n",
       "      <th>0</th>\n",
       "      <td>-0.961933</td>\n",
       "      <td>0.441803</td>\n",
       "      <td>-0.975005</td>\n",
       "      <td>1.417504</td>\n",
       "      <td>0.818815</td>\n",
       "      <td>0.316294</td>\n",
       "      <td>-0.024967</td>\n",
       "      <td>-0.063966</td>\n",
       "      <td>0.031497</td>\n",
       "      <td>-0.350311</td>\n",
       "      <td>...</td>\n",
       "      <td>-0.509591</td>\n",
       "      <td>-0.216725</td>\n",
       "      <td>-0.055506</td>\n",
       "      <td>-0.484449</td>\n",
       "      <td>-0.521581</td>\n",
       "      <td>1.949135</td>\n",
       "      <td>1.324335</td>\n",
       "      <td>0.468147</td>\n",
       "      <td>1.061100</td>\n",
       "      <td>1.655970</td>\n",
       "    </tr>\n",
       "    <tr>\n",
       "      <th>1</th>\n",
       "      <td>-0.292526</td>\n",
       "      <td>-1.139267</td>\n",
       "      <td>0.195837</td>\n",
       "      <td>-1.281121</td>\n",
       "      <td>-0.251439</td>\n",
       "      <td>2.511997</td>\n",
       "      <td>-0.922206</td>\n",
       "      <td>0.059543</td>\n",
       "      <td>-1.409645</td>\n",
       "      <td>-0.656712</td>\n",
       "      <td>...</td>\n",
       "      <td>1.700708</td>\n",
       "      <td>0.007290</td>\n",
       "      <td>0.099062</td>\n",
       "      <td>0.563853</td>\n",
       "      <td>-0.257275</td>\n",
       "      <td>-0.581781</td>\n",
       "      <td>-0.169887</td>\n",
       "      <td>-0.542304</td>\n",
       "      <td>0.312939</td>\n",
       "      <td>-1.284377</td>\n",
       "    </tr>\n",
       "    <tr>\n",
       "      <th>2</th>\n",
       "      <td>0.258788</td>\n",
       "      <td>-0.972845</td>\n",
       "      <td>0.588486</td>\n",
       "      <td>-0.800258</td>\n",
       "      <td>-1.820398</td>\n",
       "      <td>-2.058924</td>\n",
       "      <td>-0.064764</td>\n",
       "      <td>1.592124</td>\n",
       "      <td>-0.173117</td>\n",
       "      <td>-0.121087</td>\n",
       "      <td>...</td>\n",
       "      <td>-0.615472</td>\n",
       "      <td>0.009999</td>\n",
       "      <td>0.945810</td>\n",
       "      <td>-0.318521</td>\n",
       "      <td>-0.117889</td>\n",
       "      <td>0.621366</td>\n",
       "      <td>-0.070764</td>\n",
       "      <td>0.401682</td>\n",
       "      <td>-0.016227</td>\n",
       "      <td>-0.526553</td>\n",
       "    </tr>\n",
       "    <tr>\n",
       "      <th>3</th>\n",
       "      <td>-1.152132</td>\n",
       "      <td>-2.213168</td>\n",
       "      <td>-0.861525</td>\n",
       "      <td>0.630925</td>\n",
       "      <td>0.951772</td>\n",
       "      <td>-1.165724</td>\n",
       "      <td>-0.391559</td>\n",
       "      <td>1.063619</td>\n",
       "      <td>-0.350009</td>\n",
       "      <td>-1.489058</td>\n",
       "      <td>...</td>\n",
       "      <td>-0.284277</td>\n",
       "      <td>0.198946</td>\n",
       "      <td>-0.091833</td>\n",
       "      <td>0.349628</td>\n",
       "      <td>-0.298910</td>\n",
       "      <td>1.513696</td>\n",
       "      <td>0.671185</td>\n",
       "      <td>0.010855</td>\n",
       "      <td>-1.043689</td>\n",
       "      <td>1.625275</td>\n",
       "    </tr>\n",
       "    <tr>\n",
       "      <th>4</th>\n",
       "      <td>0.195783</td>\n",
       "      <td>0.593306</td>\n",
       "      <td>0.282992</td>\n",
       "      <td>0.247147</td>\n",
       "      <td>1.978668</td>\n",
       "      <td>-0.871018</td>\n",
       "      <td>-0.989715</td>\n",
       "      <td>-1.032253</td>\n",
       "      <td>-1.109654</td>\n",
       "      <td>-0.385142</td>\n",
       "      <td>...</td>\n",
       "      <td>-0.692998</td>\n",
       "      <td>-0.845707</td>\n",
       "      <td>-0.177497</td>\n",
       "      <td>-0.166491</td>\n",
       "      <td>1.483155</td>\n",
       "      <td>-1.687946</td>\n",
       "      <td>-0.141430</td>\n",
       "      <td>0.200778</td>\n",
       "      <td>-0.675942</td>\n",
       "      <td>2.220611</td>\n",
       "    </tr>\n",
       "    <tr>\n",
       "      <th>...</th>\n",
       "      <td>...</td>\n",
       "      <td>...</td>\n",
       "      <td>...</td>\n",
       "      <td>...</td>\n",
       "      <td>...</td>\n",
       "      <td>...</td>\n",
       "      <td>...</td>\n",
       "      <td>...</td>\n",
       "      <td>...</td>\n",
       "      <td>...</td>\n",
       "      <td>...</td>\n",
       "      <td>...</td>\n",
       "      <td>...</td>\n",
       "      <td>...</td>\n",
       "      <td>...</td>\n",
       "      <td>...</td>\n",
       "      <td>...</td>\n",
       "      <td>...</td>\n",
       "      <td>...</td>\n",
       "      <td>...</td>\n",
       "      <td>...</td>\n",
       "    </tr>\n",
       "    <tr>\n",
       "      <th>995</th>\n",
       "      <td>1.075148</td>\n",
       "      <td>3.003267</td>\n",
       "      <td>-0.123441</td>\n",
       "      <td>-1.036740</td>\n",
       "      <td>-1.270604</td>\n",
       "      <td>-1.277029</td>\n",
       "      <td>-0.278504</td>\n",
       "      <td>1.249723</td>\n",
       "      <td>-0.706994</td>\n",
       "      <td>-0.704671</td>\n",
       "      <td>...</td>\n",
       "      <td>0.842161</td>\n",
       "      <td>-0.762154</td>\n",
       "      <td>0.546881</td>\n",
       "      <td>1.586981</td>\n",
       "      <td>-0.242043</td>\n",
       "      <td>0.507189</td>\n",
       "      <td>1.297424</td>\n",
       "      <td>0.314290</td>\n",
       "      <td>-1.513097</td>\n",
       "      <td>-0.074709</td>\n",
       "    </tr>\n",
       "    <tr>\n",
       "      <th>996</th>\n",
       "      <td>-1.226125</td>\n",
       "      <td>-0.501702</td>\n",
       "      <td>-0.717430</td>\n",
       "      <td>-0.169113</td>\n",
       "      <td>0.599530</td>\n",
       "      <td>-0.997987</td>\n",
       "      <td>0.028236</td>\n",
       "      <td>0.200508</td>\n",
       "      <td>-1.364865</td>\n",
       "      <td>0.564957</td>\n",
       "      <td>...</td>\n",
       "      <td>-1.012523</td>\n",
       "      <td>0.593252</td>\n",
       "      <td>-0.594506</td>\n",
       "      <td>-1.443559</td>\n",
       "      <td>-0.028870</td>\n",
       "      <td>0.052170</td>\n",
       "      <td>-0.867227</td>\n",
       "      <td>0.228531</td>\n",
       "      <td>-0.207759</td>\n",
       "      <td>-0.209665</td>\n",
       "    </tr>\n",
       "    <tr>\n",
       "      <th>997</th>\n",
       "      <td>-3.056328</td>\n",
       "      <td>0.449889</td>\n",
       "      <td>1.880362</td>\n",
       "      <td>-0.742841</td>\n",
       "      <td>2.238346</td>\n",
       "      <td>-0.291738</td>\n",
       "      <td>1.270233</td>\n",
       "      <td>0.696415</td>\n",
       "      <td>1.242857</td>\n",
       "      <td>0.429148</td>\n",
       "      <td>...</td>\n",
       "      <td>0.135085</td>\n",
       "      <td>-0.732077</td>\n",
       "      <td>-0.037468</td>\n",
       "      <td>-0.836689</td>\n",
       "      <td>0.020274</td>\n",
       "      <td>-0.803306</td>\n",
       "      <td>-0.907277</td>\n",
       "      <td>-0.781791</td>\n",
       "      <td>0.069908</td>\n",
       "      <td>1.336894</td>\n",
       "    </tr>\n",
       "    <tr>\n",
       "      <th>998</th>\n",
       "      <td>1.450658</td>\n",
       "      <td>1.310348</td>\n",
       "      <td>0.383837</td>\n",
       "      <td>-0.408860</td>\n",
       "      <td>-0.471111</td>\n",
       "      <td>-1.392396</td>\n",
       "      <td>-0.805808</td>\n",
       "      <td>0.210900</td>\n",
       "      <td>1.727079</td>\n",
       "      <td>0.862870</td>\n",
       "      <td>...</td>\n",
       "      <td>0.109018</td>\n",
       "      <td>-0.128522</td>\n",
       "      <td>0.860270</td>\n",
       "      <td>0.765015</td>\n",
       "      <td>-2.360090</td>\n",
       "      <td>0.252699</td>\n",
       "      <td>-1.461818</td>\n",
       "      <td>-0.812342</td>\n",
       "      <td>-1.095099</td>\n",
       "      <td>-1.460114</td>\n",
       "    </tr>\n",
       "    <tr>\n",
       "      <th>999</th>\n",
       "      <td>0.717977</td>\n",
       "      <td>0.763482</td>\n",
       "      <td>0.313576</td>\n",
       "      <td>-0.326473</td>\n",
       "      <td>-0.158700</td>\n",
       "      <td>0.468113</td>\n",
       "      <td>0.519161</td>\n",
       "      <td>-0.427099</td>\n",
       "      <td>2.759068</td>\n",
       "      <td>-2.571514</td>\n",
       "      <td>...</td>\n",
       "      <td>-1.105732</td>\n",
       "      <td>-0.876950</td>\n",
       "      <td>-0.298792</td>\n",
       "      <td>-0.576146</td>\n",
       "      <td>-1.196780</td>\n",
       "      <td>0.409031</td>\n",
       "      <td>-0.032282</td>\n",
       "      <td>-0.562064</td>\n",
       "      <td>-0.315811</td>\n",
       "      <td>0.192863</td>\n",
       "    </tr>\n",
       "  </tbody>\n",
       "</table>\n",
       "<p>1000 rows × 40 columns</p>\n",
       "</div>"
      ],
      "text/plain": [
       "           0         1         2         3         4         5         6   \\\n",
       "0   -0.961933  0.441803 -0.975005  1.417504  0.818815  0.316294 -0.024967   \n",
       "1   -0.292526 -1.139267  0.195837 -1.281121 -0.251439  2.511997 -0.922206   \n",
       "2    0.258788 -0.972845  0.588486 -0.800258 -1.820398 -2.058924 -0.064764   \n",
       "3   -1.152132 -2.213168 -0.861525  0.630925  0.951772 -1.165724 -0.391559   \n",
       "4    0.195783  0.593306  0.282992  0.247147  1.978668 -0.871018 -0.989715   \n",
       "..        ...       ...       ...       ...       ...       ...       ...   \n",
       "995  1.075148  3.003267 -0.123441 -1.036740 -1.270604 -1.277029 -0.278504   \n",
       "996 -1.226125 -0.501702 -0.717430 -0.169113  0.599530 -0.997987  0.028236   \n",
       "997 -3.056328  0.449889  1.880362 -0.742841  2.238346 -0.291738  1.270233   \n",
       "998  1.450658  1.310348  0.383837 -0.408860 -0.471111 -1.392396 -0.805808   \n",
       "999  0.717977  0.763482  0.313576 -0.326473 -0.158700  0.468113  0.519161   \n",
       "\n",
       "           7         8         9   ...        30        31        32  \\\n",
       "0   -0.063966  0.031497 -0.350311  ... -0.509591 -0.216725 -0.055506   \n",
       "1    0.059543 -1.409645 -0.656712  ...  1.700708  0.007290  0.099062   \n",
       "2    1.592124 -0.173117 -0.121087  ... -0.615472  0.009999  0.945810   \n",
       "3    1.063619 -0.350009 -1.489058  ... -0.284277  0.198946 -0.091833   \n",
       "4   -1.032253 -1.109654 -0.385142  ... -0.692998 -0.845707 -0.177497   \n",
       "..        ...       ...       ...  ...       ...       ...       ...   \n",
       "995  1.249723 -0.706994 -0.704671  ...  0.842161 -0.762154  0.546881   \n",
       "996  0.200508 -1.364865  0.564957  ... -1.012523  0.593252 -0.594506   \n",
       "997  0.696415  1.242857  0.429148  ...  0.135085 -0.732077 -0.037468   \n",
       "998  0.210900  1.727079  0.862870  ...  0.109018 -0.128522  0.860270   \n",
       "999 -0.427099  2.759068 -2.571514  ... -1.105732 -0.876950 -0.298792   \n",
       "\n",
       "           33        34        35        36        37        38        39  \n",
       "0   -0.484449 -0.521581  1.949135  1.324335  0.468147  1.061100  1.655970  \n",
       "1    0.563853 -0.257275 -0.581781 -0.169887 -0.542304  0.312939 -1.284377  \n",
       "2   -0.318521 -0.117889  0.621366 -0.070764  0.401682 -0.016227 -0.526553  \n",
       "3    0.349628 -0.298910  1.513696  0.671185  0.010855 -1.043689  1.625275  \n",
       "4   -0.166491  1.483155 -1.687946 -0.141430  0.200778 -0.675942  2.220611  \n",
       "..        ...       ...       ...       ...       ...       ...       ...  \n",
       "995  1.586981 -0.242043  0.507189  1.297424  0.314290 -1.513097 -0.074709  \n",
       "996 -1.443559 -0.028870  0.052170 -0.867227  0.228531 -0.207759 -0.209665  \n",
       "997 -0.836689  0.020274 -0.803306 -0.907277 -0.781791  0.069908  1.336894  \n",
       "998  0.765015 -2.360090  0.252699 -1.461818 -0.812342 -1.095099 -1.460114  \n",
       "999 -0.576146 -1.196780  0.409031 -0.032282 -0.562064 -0.315811  0.192863  \n",
       "\n",
       "[1000 rows x 40 columns]"
      ]
     },
     "execution_count": 151,
     "metadata": {},
     "output_type": "execute_result"
    }
   ],
   "source": [
    "df"
   ]
  },
  {
   "cell_type": "markdown",
   "id": "3a05358c",
   "metadata": {},
   "source": [
    "(b) Apply hierarchical clustering to the samples using correlationbased distance, and plot the dendrogram. Do the genes separate\n",
    "the samples into the two groups? Do your results depend on the\n",
    "type of linkage used?"
   ]
  },
  {
   "cell_type": "code",
   "execution_count": null,
   "id": "0943d9d4",
   "metadata": {},
   "outputs": [],
   "source": [
    "#cluster = AgglomerativeClustering(n_clusters=2, affinity='euclidean', linkage='ward')\n",
    "#cluster.fit_predict(X)"
   ]
  },
  {
   "cell_type": "code",
   "execution_count": 169,
   "id": "eba7a6af",
   "metadata": {},
   "outputs": [
    {
     "data": {
      "image/png": "[encoded data removed]",
      "text/plain": [
       "<Figure size 720x504 with 1 Axes>"
      ]
     },
     "metadata": {
      "needs_background": "light"
     },
     "output_type": "display_data"
    }
   ],
   "source": [
    "#https://coderzcolumn.com/tutorials/machine-learning/scikit-learn-sklearn-hierarchical-clustering\n",
    "#https://stackabuse.com/hierarchical-clustering-with-python-and-scikit-learn/\n",
    "\n",
    "#complete, single, average, ward, centroid, weighted, median\n",
    "\n",
    "clusters = scipy.cluster.hierarchy.linkage(df, method=\"centroid\")\n",
    "\n",
    "labelList = range(1, 11)\n",
    "\n",
    "plt.figure(figsize=(10, 7))\n",
    "scipy.cluster.hierarchy.dendrogram(clusters,\n",
    "            orientation='top',\n",
    "            #labels=labelList,\n",
    "            distance_sort='descending',\n",
    "            show_leaf_counts=True)\n",
    "plt.show()\n",
    "#centroid seems to largely split into 2 main groups - as expected."
   ]
  },
  {
   "cell_type": "markdown",
   "id": "1f78a3ef",
   "metadata": {},
   "source": [
    "(c) Your collaborator wants to know which genes differ the most\n",
    "across the two groups. Suggest a way to answer this question,\n",
    "and apply it here."
   ]
  },
  {
   "cell_type": "code",
   "execution_count": 170,
   "id": "3a903acc",
   "metadata": {},
   "outputs": [
    {
     "data": {
      "text/html": [
       "<div>\n",
       "<style scoped>\n",
       "    .dataframe tbody tr th:only-of-type {\n",
       "        vertical-align: middle;\n",
       "    }\n",
       "\n",
       "    .dataframe tbody tr th {\n",
       "        vertical-align: top;\n",
       "    }\n",
       "\n",
       "    .dataframe thead th {\n",
       "        text-align: right;\n",
       "    }\n",
       "</style>\n",
       "<table border=\"1\" class=\"dataframe\">\n",
       "  <thead>\n",
       "    <tr style=\"text-align: right;\">\n",
       "      <th></th>\n",
       "      <th>0</th>\n",
       "      <th>1</th>\n",
       "      <th>2</th>\n",
       "      <th>3</th>\n",
       "      <th>4</th>\n",
       "      <th>5</th>\n",
       "      <th>6</th>\n",
       "      <th>7</th>\n",
       "      <th>8</th>\n",
       "      <th>9</th>\n",
       "      <th>...</th>\n",
       "      <th>30</th>\n",
       "      <th>31</th>\n",
       "      <th>32</th>\n",
       "      <th>33</th>\n",
       "      <th>34</th>\n",
       "      <th>35</th>\n",
       "      <th>36</th>\n",
       "      <th>37</th>\n",
       "      <th>38</th>\n",
       "      <th>39</th>\n",
       "    </tr>\n",
       "  </thead>\n",
       "  <tbody>\n",
       "    <tr>\n",
       "      <th>0</th>\n",
       "      <td>-0.961933</td>\n",
       "      <td>0.441803</td>\n",
       "      <td>-0.975005</td>\n",
       "      <td>1.417504</td>\n",
       "      <td>0.818815</td>\n",
       "      <td>0.316294</td>\n",
       "      <td>-0.024967</td>\n",
       "      <td>-0.063966</td>\n",
       "      <td>0.031497</td>\n",
       "      <td>-0.350311</td>\n",
       "      <td>...</td>\n",
       "      <td>-0.509591</td>\n",
       "      <td>-0.216725</td>\n",
       "      <td>-0.055506</td>\n",
       "      <td>-0.484449</td>\n",
       "      <td>-0.521581</td>\n",
       "      <td>1.949135</td>\n",
       "      <td>1.324335</td>\n",
       "      <td>0.468147</td>\n",
       "      <td>1.061100</td>\n",
       "      <td>1.655970</td>\n",
       "    </tr>\n",
       "    <tr>\n",
       "      <th>1</th>\n",
       "      <td>-0.292526</td>\n",
       "      <td>-1.139267</td>\n",
       "      <td>0.195837</td>\n",
       "      <td>-1.281121</td>\n",
       "      <td>-0.251439</td>\n",
       "      <td>2.511997</td>\n",
       "      <td>-0.922206</td>\n",
       "      <td>0.059543</td>\n",
       "      <td>-1.409645</td>\n",
       "      <td>-0.656712</td>\n",
       "      <td>...</td>\n",
       "      <td>1.700708</td>\n",
       "      <td>0.007290</td>\n",
       "      <td>0.099062</td>\n",
       "      <td>0.563853</td>\n",
       "      <td>-0.257275</td>\n",
       "      <td>-0.581781</td>\n",
       "      <td>-0.169887</td>\n",
       "      <td>-0.542304</td>\n",
       "      <td>0.312939</td>\n",
       "      <td>-1.284377</td>\n",
       "    </tr>\n",
       "    <tr>\n",
       "      <th>2</th>\n",
       "      <td>0.258788</td>\n",
       "      <td>-0.972845</td>\n",
       "      <td>0.588486</td>\n",
       "      <td>-0.800258</td>\n",
       "      <td>-1.820398</td>\n",
       "      <td>-2.058924</td>\n",
       "      <td>-0.064764</td>\n",
       "      <td>1.592124</td>\n",
       "      <td>-0.173117</td>\n",
       "      <td>-0.121087</td>\n",
       "      <td>...</td>\n",
       "      <td>-0.615472</td>\n",
       "      <td>0.009999</td>\n",
       "      <td>0.945810</td>\n",
       "      <td>-0.318521</td>\n",
       "      <td>-0.117889</td>\n",
       "      <td>0.621366</td>\n",
       "      <td>-0.070764</td>\n",
       "      <td>0.401682</td>\n",
       "      <td>-0.016227</td>\n",
       "      <td>-0.526553</td>\n",
       "    </tr>\n",
       "    <tr>\n",
       "      <th>3</th>\n",
       "      <td>-1.152132</td>\n",
       "      <td>-2.213168</td>\n",
       "      <td>-0.861525</td>\n",
       "      <td>0.630925</td>\n",
       "      <td>0.951772</td>\n",
       "      <td>-1.165724</td>\n",
       "      <td>-0.391559</td>\n",
       "      <td>1.063619</td>\n",
       "      <td>-0.350009</td>\n",
       "      <td>-1.489058</td>\n",
       "      <td>...</td>\n",
       "      <td>-0.284277</td>\n",
       "      <td>0.198946</td>\n",
       "      <td>-0.091833</td>\n",
       "      <td>0.349628</td>\n",
       "      <td>-0.298910</td>\n",
       "      <td>1.513696</td>\n",
       "      <td>0.671185</td>\n",
       "      <td>0.010855</td>\n",
       "      <td>-1.043689</td>\n",
       "      <td>1.625275</td>\n",
       "    </tr>\n",
       "    <tr>\n",
       "      <th>4</th>\n",
       "      <td>0.195783</td>\n",
       "      <td>0.593306</td>\n",
       "      <td>0.282992</td>\n",
       "      <td>0.247147</td>\n",
       "      <td>1.978668</td>\n",
       "      <td>-0.871018</td>\n",
       "      <td>-0.989715</td>\n",
       "      <td>-1.032253</td>\n",
       "      <td>-1.109654</td>\n",
       "      <td>-0.385142</td>\n",
       "      <td>...</td>\n",
       "      <td>-0.692998</td>\n",
       "      <td>-0.845707</td>\n",
       "      <td>-0.177497</td>\n",
       "      <td>-0.166491</td>\n",
       "      <td>1.483155</td>\n",
       "      <td>-1.687946</td>\n",
       "      <td>-0.141430</td>\n",
       "      <td>0.200778</td>\n",
       "      <td>-0.675942</td>\n",
       "      <td>2.220611</td>\n",
       "    </tr>\n",
       "    <tr>\n",
       "      <th>...</th>\n",
       "      <td>...</td>\n",
       "      <td>...</td>\n",
       "      <td>...</td>\n",
       "      <td>...</td>\n",
       "      <td>...</td>\n",
       "      <td>...</td>\n",
       "      <td>...</td>\n",
       "      <td>...</td>\n",
       "      <td>...</td>\n",
       "      <td>...</td>\n",
       "      <td>...</td>\n",
       "      <td>...</td>\n",
       "      <td>...</td>\n",
       "      <td>...</td>\n",
       "      <td>...</td>\n",
       "      <td>...</td>\n",
       "      <td>...</td>\n",
       "      <td>...</td>\n",
       "      <td>...</td>\n",
       "      <td>...</td>\n",
       "      <td>...</td>\n",
       "    </tr>\n",
       "    <tr>\n",
       "      <th>995</th>\n",
       "      <td>1.075148</td>\n",
       "      <td>3.003267</td>\n",
       "      <td>-0.123441</td>\n",
       "      <td>-1.036740</td>\n",
       "      <td>-1.270604</td>\n",
       "      <td>-1.277029</td>\n",
       "      <td>-0.278504</td>\n",
       "      <td>1.249723</td>\n",
       "      <td>-0.706994</td>\n",
       "      <td>-0.704671</td>\n",
       "      <td>...</td>\n",
       "      <td>0.842161</td>\n",
       "      <td>-0.762154</td>\n",
       "      <td>0.546881</td>\n",
       "      <td>1.586981</td>\n",
       "      <td>-0.242043</td>\n",
       "      <td>0.507189</td>\n",
       "      <td>1.297424</td>\n",
       "      <td>0.314290</td>\n",
       "      <td>-1.513097</td>\n",
       "      <td>-0.074709</td>\n",
       "    </tr>\n",
       "    <tr>\n",
       "      <th>996</th>\n",
       "      <td>-1.226125</td>\n",
       "      <td>-0.501702</td>\n",
       "      <td>-0.717430</td>\n",
       "      <td>-0.169113</td>\n",
       "      <td>0.599530</td>\n",
       "      <td>-0.997987</td>\n",
       "      <td>0.028236</td>\n",
       "      <td>0.200508</td>\n",
       "      <td>-1.364865</td>\n",
       "      <td>0.564957</td>\n",
       "      <td>...</td>\n",
       "      <td>-1.012523</td>\n",
       "      <td>0.593252</td>\n",
       "      <td>-0.594506</td>\n",
       "      <td>-1.443559</td>\n",
       "      <td>-0.028870</td>\n",
       "      <td>0.052170</td>\n",
       "      <td>-0.867227</td>\n",
       "      <td>0.228531</td>\n",
       "      <td>-0.207759</td>\n",
       "      <td>-0.209665</td>\n",
       "    </tr>\n",
       "    <tr>\n",
       "      <th>997</th>\n",
       "      <td>-3.056328</td>\n",
       "      <td>0.449889</td>\n",
       "      <td>1.880362</td>\n",
       "      <td>-0.742841</td>\n",
       "      <td>2.238346</td>\n",
       "      <td>-0.291738</td>\n",
       "      <td>1.270233</td>\n",
       "      <td>0.696415</td>\n",
       "      <td>1.242857</td>\n",
       "      <td>0.429148</td>\n",
       "      <td>...</td>\n",
       "      <td>0.135085</td>\n",
       "      <td>-0.732077</td>\n",
       "      <td>-0.037468</td>\n",
       "      <td>-0.836689</td>\n",
       "      <td>0.020274</td>\n",
       "      <td>-0.803306</td>\n",
       "      <td>-0.907277</td>\n",
       "      <td>-0.781791</td>\n",
       "      <td>0.069908</td>\n",
       "      <td>1.336894</td>\n",
       "    </tr>\n",
       "    <tr>\n",
       "      <th>998</th>\n",
       "      <td>1.450658</td>\n",
       "      <td>1.310348</td>\n",
       "      <td>0.383837</td>\n",
       "      <td>-0.408860</td>\n",
       "      <td>-0.471111</td>\n",
       "      <td>-1.392396</td>\n",
       "      <td>-0.805808</td>\n",
       "      <td>0.210900</td>\n",
       "      <td>1.727079</td>\n",
       "      <td>0.862870</td>\n",
       "      <td>...</td>\n",
       "      <td>0.109018</td>\n",
       "      <td>-0.128522</td>\n",
       "      <td>0.860270</td>\n",
       "      <td>0.765015</td>\n",
       "      <td>-2.360090</td>\n",
       "      <td>0.252699</td>\n",
       "      <td>-1.461818</td>\n",
       "      <td>-0.812342</td>\n",
       "      <td>-1.095099</td>\n",
       "      <td>-1.460114</td>\n",
       "    </tr>\n",
       "    <tr>\n",
       "      <th>999</th>\n",
       "      <td>0.717977</td>\n",
       "      <td>0.763482</td>\n",
       "      <td>0.313576</td>\n",
       "      <td>-0.326473</td>\n",
       "      <td>-0.158700</td>\n",
       "      <td>0.468113</td>\n",
       "      <td>0.519161</td>\n",
       "      <td>-0.427099</td>\n",
       "      <td>2.759068</td>\n",
       "      <td>-2.571514</td>\n",
       "      <td>...</td>\n",
       "      <td>-1.105732</td>\n",
       "      <td>-0.876950</td>\n",
       "      <td>-0.298792</td>\n",
       "      <td>-0.576146</td>\n",
       "      <td>-1.196780</td>\n",
       "      <td>0.409031</td>\n",
       "      <td>-0.032282</td>\n",
       "      <td>-0.562064</td>\n",
       "      <td>-0.315811</td>\n",
       "      <td>0.192863</td>\n",
       "    </tr>\n",
       "  </tbody>\n",
       "</table>\n",
       "<p>1000 rows × 40 columns</p>\n",
       "</div>"
      ],
      "text/plain": [
       "           0         1         2         3         4         5         6   \\\n",
       "0   -0.961933  0.441803 -0.975005  1.417504  0.818815  0.316294 -0.024967   \n",
       "1   -0.292526 -1.139267  0.195837 -1.281121 -0.251439  2.511997 -0.922206   \n",
       "2    0.258788 -0.972845  0.588486 -0.800258 -1.820398 -2.058924 -0.064764   \n",
       "3   -1.152132 -2.213168 -0.861525  0.630925  0.951772 -1.165724 -0.391559   \n",
       "4    0.195783  0.593306  0.282992  0.247147  1.978668 -0.871018 -0.989715   \n",
       "..        ...       ...       ...       ...       ...       ...       ...   \n",
       "995  1.075148  3.003267 -0.123441 -1.036740 -1.270604 -1.277029 -0.278504   \n",
       "996 -1.226125 -0.501702 -0.717430 -0.169113  0.599530 -0.997987  0.028236   \n",
       "997 -3.056328  0.449889  1.880362 -0.742841  2.238346 -0.291738  1.270233   \n",
       "998  1.450658  1.310348  0.383837 -0.408860 -0.471111 -1.392396 -0.805808   \n",
       "999  0.717977  0.763482  0.313576 -0.326473 -0.158700  0.468113  0.519161   \n",
       "\n",
       "           7         8         9   ...        30        31        32  \\\n",
       "0   -0.063966  0.031497 -0.350311  ... -0.509591 -0.216725 -0.055506   \n",
       "1    0.059543 -1.409645 -0.656712  ...  1.700708  0.007290  0.099062   \n",
       "2    1.592124 -0.173117 -0.121087  ... -0.615472  0.009999  0.945810   \n",
       "3    1.063619 -0.350009 -1.489058  ... -0.284277  0.198946 -0.091833   \n",
       "4   -1.032253 -1.109654 -0.385142  ... -0.692998 -0.845707 -0.177497   \n",
       "..        ...       ...       ...  ...       ...       ...       ...   \n",
       "995  1.249723 -0.706994 -0.704671  ...  0.842161 -0.762154  0.546881   \n",
       "996  0.200508 -1.364865  0.564957  ... -1.012523  0.593252 -0.594506   \n",
       "997  0.696415  1.242857  0.429148  ...  0.135085 -0.732077 -0.037468   \n",
       "998  0.210900  1.727079  0.862870  ...  0.109018 -0.128522  0.860270   \n",
       "999 -0.427099  2.759068 -2.571514  ... -1.105732 -0.876950 -0.298792   \n",
       "\n",
       "           33        34        35        36        37        38        39  \n",
       "0   -0.484449 -0.521581  1.949135  1.324335  0.468147  1.061100  1.655970  \n",
       "1    0.563853 -0.257275 -0.581781 -0.169887 -0.542304  0.312939 -1.284377  \n",
       "2   -0.318521 -0.117889  0.621366 -0.070764  0.401682 -0.016227 -0.526553  \n",
       "3    0.349628 -0.298910  1.513696  0.671185  0.010855 -1.043689  1.625275  \n",
       "4   -0.166491  1.483155 -1.687946 -0.141430  0.200778 -0.675942  2.220611  \n",
       "..        ...       ...       ...       ...       ...       ...       ...  \n",
       "995  1.586981 -0.242043  0.507189  1.297424  0.314290 -1.513097 -0.074709  \n",
       "996 -1.443559 -0.028870  0.052170 -0.867227  0.228531 -0.207759 -0.209665  \n",
       "997 -0.836689  0.020274 -0.803306 -0.907277 -0.781791  0.069908  1.336894  \n",
       "998  0.765015 -2.360090  0.252699 -1.461818 -0.812342 -1.095099 -1.460114  \n",
       "999 -0.576146 -1.196780  0.409031 -0.032282 -0.562064 -0.315811  0.192863  \n",
       "\n",
       "[1000 rows x 40 columns]"
      ]
     },
     "execution_count": 170,
     "metadata": {},
     "output_type": "execute_result"
    }
   ],
   "source": [
    "df"
   ]
  },
  {
   "cell_type": "code",
   "execution_count": null,
   "id": "7876f35f",
   "metadata": {},
   "outputs": [],
   "source": []
  }
 ],
 "metadata": {
  "kernelspec": {
   "display_name": "Data Science python kernel",
   "language": "python",
   "name": "datascience"
  },
  "language_info": {
   "codemirror_mode": {
    "name": "ipython",
    "version": 3
   },
   "file_extension": ".py",
   "mimetype": "text/x-python",
   "name": "python",
   "nbconvert_exporter": "python",
   "pygments_lexer": "ipython3",
   "version": "3.9.7"
  }
 },
 "nbformat": 4,
 "nbformat_minor": 5
}
